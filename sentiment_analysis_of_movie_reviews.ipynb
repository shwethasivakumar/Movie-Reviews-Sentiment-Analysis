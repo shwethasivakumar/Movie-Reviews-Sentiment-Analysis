{
  "nbformat": 4,
  "nbformat_minor": 0,
  "metadata": {
    "colab": {
      "name": "sentiment_analysis_of_movie_reviews.ipynb",
      "provenance": [],
      "collapsed_sections": [],
      "machine_shape": "hm"
    },
    "kernelspec": {
      "display_name": "Python 3",
      "name": "python3"
    }
  },
  "cells": [
    {
      "cell_type": "code",
      "metadata": {
        "id": "I1Y9j8FGp5_j",
        "colab": {
          "base_uri": "https://localhost:8080/"
        },
        "outputId": "3df09c99-a7fa-4007-b317-cd63e60b25cf"
      },
      "source": [
        "!python --version"
      ],
      "execution_count": null,
      "outputs": [
        {
          "output_type": "stream",
          "name": "stdout",
          "text": [
            "Python 3.7.12\n"
          ]
        }
      ]
    },
    {
      "cell_type": "markdown",
      "metadata": {
        "id": "ChfL-Boo1Hbd"
      },
      "source": [
        "# Loading Dataset and Libraries:"
      ]
    },
    {
      "cell_type": "code",
      "metadata": {
        "colab": {
          "resources": {
            "http://localhost:8080/nbextensions/google.colab/files.js": {
              "data": "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",
              "ok": true,
              "headers": [
                [
                  "content-type",
                  "application/javascript"
                ]
              ],
              "status": 200,
              "status_text": ""
            }
          },
          "base_uri": "https://localhost:8080/",
          "height": 73
        },
        "id": "cRVy_OzO6Hzc",
        "outputId": "d10d3d6f-c19c-40e1-f68d-085b2313730b"
      },
      "source": [
        "from google.colab import files\n",
        "uploaded = files.upload()\n",
        "import seaborn as sb\n",
        "import pandas as pd\n",
        "import matplotlib.pyplot as plt\n",
        "import io\n"
      ],
      "execution_count": null,
      "outputs": [
        {
          "output_type": "display_data",
          "data": {
            "text/html": [
              "\n",
              "     <input type=\"file\" id=\"files-4e26e037-23df-413e-ad1b-aaa2f7ff535e\" name=\"files[]\" multiple disabled\n",
              "        style=\"border:none\" />\n",
              "     <output id=\"result-4e26e037-23df-413e-ad1b-aaa2f7ff535e\">\n",
              "      Upload widget is only available when the cell has been executed in the\n",
              "      current browser session. Please rerun this cell to enable.\n",
              "      </output>\n",
              "      <script src=\"/nbextensions/google.colab/files.js\"></script> "
            ],
            "text/plain": [
              "<IPython.core.display.HTML object>"
            ]
          },
          "metadata": {}
        },
        {
          "output_type": "stream",
          "name": "stdout",
          "text": [
            "Saving FINAL COMMENTS.csv to FINAL COMMENTS (2).csv\n"
          ]
        }
      ]
    },
    {
      "cell_type": "code",
      "source": [
        "!pip install IMDbPY"
      ],
      "metadata": {
        "colab": {
          "base_uri": "https://localhost:8080/"
        },
        "id": "edU8BCqbDg14",
        "outputId": "db77ce56-990e-4aa0-948b-77384adfc8ad"
      },
      "execution_count": null,
      "outputs": [
        {
          "output_type": "stream",
          "name": "stdout",
          "text": [
            "Requirement already satisfied: IMDbPY in /usr/local/lib/python3.7/dist-packages (2021.4.18)\n",
            "Requirement already satisfied: lxml in /usr/local/lib/python3.7/dist-packages (from IMDbPY) (4.2.6)\n",
            "Requirement already satisfied: SQLAlchemy in /usr/local/lib/python3.7/dist-packages (from IMDbPY) (1.4.27)\n",
            "Requirement already satisfied: importlib-metadata in /usr/local/lib/python3.7/dist-packages (from SQLAlchemy->IMDbPY) (4.8.2)\n",
            "Requirement already satisfied: greenlet!=0.4.17 in /usr/local/lib/python3.7/dist-packages (from SQLAlchemy->IMDbPY) (1.1.2)\n",
            "Requirement already satisfied: typing-extensions>=3.6.4 in /usr/local/lib/python3.7/dist-packages (from importlib-metadata->SQLAlchemy->IMDbPY) (3.10.0.2)\n",
            "Requirement already satisfied: zipp>=0.5 in /usr/local/lib/python3.7/dist-packages (from importlib-metadata->SQLAlchemy->IMDbPY) (3.6.0)\n"
          ]
        }
      ]
    },
    {
      "cell_type": "code",
      "metadata": {
        "id": "tEifqvzX46Or"
      },
      "source": [
        "import seaborn as sb\n",
        "import pandas as pd\n",
        "import numpy as np\n",
        "import matplotlib.pyplot as plt\n",
        "import spacy\n",
        "import string\n",
        "import seaborn as sns\n",
        "from nltk.corpus import stopwords\n",
        "from nltk.tokenize import word_tokenize\n",
        "from nltk.stem import WordNetLemmatizer\n",
        "from nltk import ngrams\n",
        "from collections import Counter\n",
        "import nltk\n",
        "from nltk.corpus import webtext\n",
        "from nltk.probability import FreqDist\n",
        "from sklearn import preprocessing\n",
        "from spacy.lang.en.stop_words import STOP_WORDS\n",
        "from spacy.lang.en import English\n",
        "from sklearn.model_selection import train_test_split\n",
        "from sklearn.feature_extraction.text import CountVectorizer,TfidfVectorizer\n",
        "from sklearn.metrics import accuracy_score, confusion_matrix, classification_report\n",
        "from sklearn.base import TransformerMixin \n",
        "from sklearn.linear_model import LogisticRegression\n",
        "from sklearn.ensemble import RandomForestClassifier\n",
        "from sklearn.pipeline import Pipeline\n",
        "from sklearn.svm import LinearSVC\n",
        "import pickle\n",
        "from sklearn.ensemble import RandomForestClassifier\n",
        "from sklearn.datasets import make_classification\n",
        "from sklearn import svm\n",
        "from sklearn.naive_bayes import GaussianNB\n",
        "import math\n",
        "from imdb import IMDb\n",
        "import re"
      ],
      "execution_count": null,
      "outputs": []
    },
    {
      "cell_type": "markdown",
      "metadata": {
        "id": "boQjJXFv1BFC"
      },
      "source": [
        "# Preprocessing:"
      ]
    },
    {
      "cell_type": "code",
      "metadata": {
        "id": "rA0muML76ZcK"
      },
      "source": [
        "df = pd.read_csv(io.BytesIO(uploaded['FINAL COMMENTS.csv']))"
      ],
      "execution_count": null,
      "outputs": []
    },
    {
      "cell_type": "code",
      "metadata": {
        "id": "WwqcVanB1Xmv"
      },
      "source": [
        "df.rename(columns = {'Movie Year': 'YearofRelease','Comment Title':'Gist','User Name':'UserName','Comment Date':'Date','Movie Name':'Name'},inplace=True)"
      ],
      "execution_count": null,
      "outputs": []
    },
    {
      "cell_type": "code",
      "metadata": {
        "colab": {
          "base_uri": "https://localhost:8080/",
          "height": 206
        },
        "id": "yU6se2rd-KZ8",
        "outputId": "90e41159-543c-4f60-efdf-3805a982e985"
      },
      "source": [
        "df.head(5)"
      ],
      "execution_count": null,
      "outputs": [
        {
          "output_type": "execute_result",
          "data": {
            "text/html": [
              "<div>\n",
              "<style scoped>\n",
              "    .dataframe tbody tr th:only-of-type {\n",
              "        vertical-align: middle;\n",
              "    }\n",
              "\n",
              "    .dataframe tbody tr th {\n",
              "        vertical-align: top;\n",
              "    }\n",
              "\n",
              "    .dataframe thead th {\n",
              "        text-align: right;\n",
              "    }\n",
              "</style>\n",
              "<table border=\"1\" class=\"dataframe\">\n",
              "  <thead>\n",
              "    <tr style=\"text-align: right;\">\n",
              "      <th></th>\n",
              "      <th>Gist</th>\n",
              "      <th>UserName</th>\n",
              "      <th>Name</th>\n",
              "      <th>YearofRelease</th>\n",
              "      <th>Date</th>\n",
              "      <th>Rating</th>\n",
              "      <th>Tone</th>\n",
              "      <th>Comment</th>\n",
              "    </tr>\n",
              "  </thead>\n",
              "  <tbody>\n",
              "    <tr>\n",
              "      <th>0</th>\n",
              "      <td>Amazing in 1997, 2005, 2015, 2030, 3010 &amp; for...</td>\n",
              "      <td>katherinegranada995</td>\n",
              "      <td>Titanic</td>\n",
              "      <td>(1997)</td>\n",
              "      <td>20 January 2015</td>\n",
              "      <td>10/10</td>\n",
              "      <td>positive</td>\n",
              "      <td>You can watch this movie in 1997, you can watc...</td>\n",
              "    </tr>\n",
              "    <tr>\n",
              "      <th>1</th>\n",
              "      <td>Why only a 7.8?\\n</td>\n",
              "      <td>sander-vanluit</td>\n",
              "      <td>Titanic</td>\n",
              "      <td>(1997)</td>\n",
              "      <td>13 July 2020</td>\n",
              "      <td>9/10</td>\n",
              "      <td>positive</td>\n",
              "      <td>There is no movie which made a bigger emotiona...</td>\n",
              "    </tr>\n",
              "    <tr>\n",
              "      <th>2</th>\n",
              "      <td>Titanic masterpiece: an emotional and visual ...</td>\n",
              "      <td>otr91</td>\n",
              "      <td>Titanic</td>\n",
              "      <td>(1997)</td>\n",
              "      <td>31 August 2015</td>\n",
              "      <td>10/10</td>\n",
              "      <td>positive</td>\n",
              "      <td>Titanic is one of my all time favourite films....</td>\n",
              "    </tr>\n",
              "    <tr>\n",
              "      <th>3</th>\n",
              "      <td>Don't get the low rating\\n</td>\n",
              "      <td>binchen-1985</td>\n",
              "      <td>Titanic</td>\n",
              "      <td>(1997)</td>\n",
              "      <td>31 January 2021</td>\n",
              "      <td>10/10</td>\n",
              "      <td>positive</td>\n",
              "      <td>The low rating makes no sense to me at all... ...</td>\n",
              "    </tr>\n",
              "    <tr>\n",
              "      <th>4</th>\n",
              "      <td>This was one of the few movies that actually ...</td>\n",
              "      <td>rtivey913</td>\n",
              "      <td>Titanic</td>\n",
              "      <td>(1997)</td>\n",
              "      <td>5 December 2014</td>\n",
              "      <td>10/10</td>\n",
              "      <td>positive</td>\n",
              "      <td>Good Lord. This movie right here, it's a maste...</td>\n",
              "    </tr>\n",
              "  </tbody>\n",
              "</table>\n",
              "</div>"
            ],
            "text/plain": [
              "                                                Gist  ...                                            Comment\n",
              "0   Amazing in 1997, 2005, 2015, 2030, 3010 & for...  ...  You can watch this movie in 1997, you can watc...\n",
              "1                                  Why only a 7.8?\\n  ...  There is no movie which made a bigger emotiona...\n",
              "2   Titanic masterpiece: an emotional and visual ...  ...  Titanic is one of my all time favourite films....\n",
              "3                         Don't get the low rating\\n  ...  The low rating makes no sense to me at all... ...\n",
              "4   This was one of the few movies that actually ...  ...  Good Lord. This movie right here, it's a maste...\n",
              "\n",
              "[5 rows x 8 columns]"
            ]
          },
          "metadata": {},
          "execution_count": 6
        }
      ]
    },
    {
      "cell_type": "code",
      "metadata": {
        "colab": {
          "base_uri": "https://localhost:8080/"
        },
        "id": "L7HTst6q09a8",
        "outputId": "0ee6e870-cdf4-4de3-805f-d2079a79e277"
      },
      "source": [
        "df.shape"
      ],
      "execution_count": null,
      "outputs": [
        {
          "output_type": "execute_result",
          "data": {
            "text/plain": [
              "(51109, 8)"
            ]
          },
          "metadata": {},
          "execution_count": 7
        }
      ]
    },
    {
      "cell_type": "code",
      "metadata": {
        "id": "R5JN_RD0-pOK",
        "colab": {
          "base_uri": "https://localhost:8080/"
        },
        "outputId": "6a00b32c-3fd1-42e0-9530-e385668a0f63"
      },
      "source": [
        "df.info()"
      ],
      "execution_count": null,
      "outputs": [
        {
          "output_type": "stream",
          "name": "stdout",
          "text": [
            "<class 'pandas.core.frame.DataFrame'>\n",
            "RangeIndex: 51109 entries, 0 to 51108\n",
            "Data columns (total 8 columns):\n",
            " #   Column         Non-Null Count  Dtype \n",
            "---  ------         --------------  ----- \n",
            " 0   Gist           51109 non-null  object\n",
            " 1   UserName       51109 non-null  object\n",
            " 2   Name           51109 non-null  object\n",
            " 3   YearofRelease  51109 non-null  object\n",
            " 4   Date           51109 non-null  object\n",
            " 5   Rating         47875 non-null  object\n",
            " 6   Tone           47875 non-null  object\n",
            " 7   Comment        51109 non-null  object\n",
            "dtypes: object(8)\n",
            "memory usage: 3.1+ MB\n"
          ]
        }
      ]
    },
    {
      "cell_type": "markdown",
      "metadata": {
        "id": "OqG9V7Yq1kwq"
      },
      "source": [
        "**Dropping Unwanted Columns and Null Values:**"
      ]
    },
    {
      "cell_type": "code",
      "metadata": {
        "id": "cyK_182GAK01"
      },
      "source": [
        "df.drop(['UserName'],axis=1,inplace=True)"
      ],
      "execution_count": null,
      "outputs": []
    },
    {
      "cell_type": "code",
      "metadata": {
        "id": "nLo42JlbEZbK"
      },
      "source": [
        "df.dropna(inplace=True)"
      ],
      "execution_count": null,
      "outputs": []
    },
    {
      "cell_type": "markdown",
      "metadata": {
        "id": "DSIOmkE96WzR"
      },
      "source": [
        "**Label Encoding and column data manipulation:**"
      ]
    },
    {
      "cell_type": "code",
      "metadata": {
        "id": "boP-U28_4gJ-"
      },
      "source": [
        "le = preprocessing.LabelEncoder()\n",
        "df['Tone']=le.fit_transform(df['Tone'])"
      ],
      "execution_count": null,
      "outputs": []
    },
    {
      "cell_type": "code",
      "metadata": {
        "id": "FszwdRalB9k7"
      },
      "source": [
        "df[\"Rating\"].replace({\"1/10\": \"1\", \"2/10\": \"2\",\"3/10\":\"3\",\"4/10\":\"4\",\"5/10\":\"5\",\"6/10\":\"6\",\"7/10\":\"7\",\"8/10\":\"8\",\"9/10\":\"9\",\"10/10\":\"10\"}, inplace=True)\n",
        "df[\"Rating\"] = pd.to_numeric(df[\"Rating\"])"
      ],
      "execution_count": null,
      "outputs": []
    },
    {
      "cell_type": "markdown",
      "metadata": {
        "id": "EF39Sy3SXjIt"
      },
      "source": [
        "#Feature Engineering:"
      ]
    },
    {
      "cell_type": "code",
      "metadata": {
        "colab": {
          "base_uri": "https://localhost:8080/"
        },
        "id": "HXSqhgMzYFV8",
        "outputId": "59f090de-cc4e-4658-ac3d-4cdd830c1337"
      },
      "source": [
        "nlp=English()\n",
        "nltk.download('punkt')\n",
        "nltk.download('stopwords')\n",
        "stpwrds = list(STOP_WORDS)\n",
        "punc = string.punctuation"
      ],
      "execution_count": null,
      "outputs": [
        {
          "output_type": "stream",
          "name": "stdout",
          "text": [
            "[nltk_data] Downloading package punkt to /root/nltk_data...\n",
            "[nltk_data]   Package punkt is already up-to-date!\n",
            "[nltk_data] Downloading package stopwords to /root/nltk_data...\n",
            "[nltk_data]   Package stopwords is already up-to-date!\n"
          ]
        }
      ]
    },
    {
      "cell_type": "code",
      "metadata": {
        "id": "WwQOO7RMXm2O"
      },
      "source": [
        "#Feature extraction methods:\n",
        "\n",
        "def count_chars(text):\n",
        "  return len(text)\n",
        "\n",
        "def count_words(text):\n",
        "  return len(text.split())\n",
        "\n",
        "def count_capital_chars(text):\n",
        "    count=0\n",
        "    for i in text:\n",
        "        if i.isupper():\n",
        "            count+=1\n",
        "    return count\n",
        "\n",
        "def count_capital_words(text):\n",
        "    return sum(map(str.isupper,text.split()))\n",
        "\n",
        "def count_punctuations(text):\n",
        "    punctuations='!\"#$%&\\'()*+,-./:;<=>?@[\\]^_`{|}~'\n",
        "    d=dict()\n",
        "    for i in punctuations:\n",
        "        d[str(i)+' count']=text.count(i)\n",
        "    return d \n",
        "\n",
        "def count_words_in_quotes(text):\n",
        "    x = re.findall(\"'.'|\\\".\\\"\", text)\n",
        "    count=0\n",
        "    if x is None:\n",
        "        return 0\n",
        "    else:\n",
        "        for i in x:\n",
        "            t=i[1:-1]\n",
        "            count+=count_words(t)\n",
        "        return count\n",
        "\n",
        "def count_sent(text):\n",
        "    return len(nltk.sent_tokenize(text))\n",
        "\n",
        "def count_unique_words(text):\n",
        "    return len(set(text.split()))\n",
        "\n",
        "def count_stopwords(text):\n",
        "    stop_words = set(stopwords.words('english'))  \n",
        "    word_tokens = word_tokenize(text)\n",
        "    stopwords_x = [w for w in word_tokens if w in stop_words]\n",
        "    return len(stopwords_x)"
      ],
      "execution_count": null,
      "outputs": []
    },
    {
      "cell_type": "code",
      "metadata": {
        "id": "H9IdLsTdXsEa"
      },
      "source": [
        "#Feature extraction\n",
        "\n",
        "comment_array = np.array(df['Comment'])\n",
        "char_count = 0\n",
        "word_count = 0\n",
        "capital_char_count = 0\n",
        "capital_words_count = 0\n",
        "word_in_quote_count = 0\n",
        "sent_count = 0\n",
        "unique_word_count = 0\n",
        "stopword_count = 0\n",
        "\n",
        "for i in comment_array:\n",
        "  char_count += count_chars(i)\n",
        "  word_count += count_words(i)\n",
        "  capital_char_count += count_capital_chars(i)\n",
        "  capital_words_count += count_capital_words(i)\n",
        "  word_in_quote_count += count_words_in_quotes(i)\n",
        "  sent_count += count_sent(i)\n",
        "  unique_word_count += count_unique_words(i)\n",
        "  stopword_count += count_stopwords(i)\n"
      ],
      "execution_count": null,
      "outputs": []
    },
    {
      "cell_type": "code",
      "metadata": {
        "colab": {
          "base_uri": "https://localhost:8080/"
        },
        "id": "owgozH1BX2jH",
        "outputId": "aaa58e6e-60f4-4806-989e-43415fa6ee4d"
      },
      "source": [
        "#Features of dataset\n",
        "print('Average length of words: ', char_count/word_count)\n",
        "print('Average length of sentences: ', word_count/sent_count)\n",
        "print('Unique words vs word count feature: ', unique_word_count/word_count)\n",
        "print('Stopwords count vs words counts feature: ', stopword_count/word_count)\n",
        "print('Count of characters in the dataset: ', char_count)\n",
        "print('Total count of words: ', word_count)\n",
        "print('Words with capital letters: ', capital_char_count)\n",
        "print('Total count of capital words : ', capital_words_count)\n",
        "print('Total count of words enclosed in quotes: ', word_in_quote_count)\n",
        "print('Total sentence count in the dataset: ', sent_count)\n",
        "print('Total count of unique words in the dataset: ', unique_word_count)\n",
        "print('Total count of stop words: ', stopword_count)"
      ],
      "execution_count": null,
      "outputs": [
        {
          "output_type": "stream",
          "name": "stdout",
          "text": [
            "Average length of words:  5.5647507724273595\n",
            "Average length of sentences:  18.77593493681815\n",
            "Unique words vs word count feature:  0.6586401872275925\n",
            "Stopwords count vs words counts feature:  0.4312215351470415\n",
            "Count of characters in the dataset:  39209067\n",
            "Total count of words:  7045970\n",
            "Words with capital letters:  1185890\n",
            "Total count of capital words :  173549\n",
            "Total count of words enclosed in quotes:  340\n",
            "Total sentence count in the dataset:  375266\n",
            "Total count of unique words in the dataset:  4640759\n",
            "Total count of stop words:  3038374\n"
          ]
        }
      ]
    },
    {
      "cell_type": "code",
      "metadata": {
        "id": "aM7NzTTHaiRP"
      },
      "source": [
        "#Tokenizer without feature engineering\n",
        "def tokenizer_no_fe(s):\n",
        "    mytokens = nlp(s)\n",
        "    return mytokens"
      ],
      "execution_count": null,
      "outputs": []
    },
    {
      "cell_type": "code",
      "metadata": {
        "id": "QleiFGOI-fX3"
      },
      "source": [
        "#Custom tokenizer with feature engineering\n",
        "def tokenizer(s):\n",
        "    mytokens = nlp(s)\n",
        "    mytokens = [ word.lemma_.lower().strip() if word.lemma_ != \"-PRON-\" else word.lower_ for word in mytokens ]\n",
        "    mytokens = [ word for word in mytokens if word not in stpwrds and word not in punc ]\n",
        "    return mytokens"
      ],
      "execution_count": null,
      "outputs": []
    },
    {
      "cell_type": "code",
      "metadata": {
        "id": "q6T9JnT3-fX4"
      },
      "source": [
        "class predictors(TransformerMixin):\n",
        "    def transform(self, X, **transform_params):\n",
        "        return [clean_text(text) for text in X]\n",
        "    def fit(self, X, y, **fit_params):\n",
        "        return self\n",
        "    def get_params(self, deep=True):\n",
        "        return {}\n",
        "def clean_text(text):     \n",
        "    return text.strip().lower()"
      ],
      "execution_count": null,
      "outputs": []
    },
    {
      "cell_type": "code",
      "metadata": {
        "id": "8fC3RNNZTkKt"
      },
      "source": [
        "class DenseTransformer(TransformerMixin):\n",
        "\n",
        "    def fit(self, X, y=None, **fit_params):\n",
        "        return self\n",
        "\n",
        "    def transform(self, X, y=None, **fit_params):\n",
        "        return X.todense()"
      ],
      "execution_count": null,
      "outputs": []
    },
    {
      "cell_type": "code",
      "metadata": {
        "id": "MMrQtRFC-fX4"
      },
      "source": [
        "#Vectorizer without feature engineering\n",
        "vectorizer_no_fe = CountVectorizer(tokenizer = tokenizer_no_fe, ngram_range=(1,1)) \n",
        "\n",
        "#Default vectorizer with feature engineering\n",
        "tfvectorizer = TfidfVectorizer(tokenizer = tokenizer)"
      ],
      "execution_count": null,
      "outputs": []
    },
    {
      "cell_type": "markdown",
      "source": [
        "#Hypothesis Testing:"
      ],
      "metadata": {
        "id": "VyEebCTg_MyV"
      }
    },
    {
      "cell_type": "markdown",
      "source": [
        " **Influence of sentiment/tone on writing reviews:**"
      ],
      "metadata": {
        "id": "f67CmxPFPsWW"
      }
    },
    {
      "cell_type": "code",
      "metadata": {
        "colab": {
          "base_uri": "https://localhost:8080/"
        },
        "id": "f9J7yKf8DfKV",
        "outputId": "3f9f7cdd-97a9-4744-c19c-5a665fcae0cd"
      },
      "source": [
        "df['Tone'].value_counts()"
      ],
      "execution_count": null,
      "outputs": [
        {
          "output_type": "execute_result",
          "data": {
            "text/plain": [
              "1    24438\n",
              "0    23437\n",
              "Name: Tone, dtype: int64"
            ]
          },
          "metadata": {},
          "execution_count": 49
        }
      ]
    },
    {
      "cell_type": "code",
      "metadata": {
        "id": "Da63a0gCHtD4"
      },
      "source": [
        "df2=df.groupby('Name', as_index=False)['Rating'].mean()"
      ],
      "execution_count": null,
      "outputs": []
    },
    {
      "cell_type": "code",
      "metadata": {
        "colab": {
          "base_uri": "https://localhost:8080/",
          "height": 1000
        },
        "id": "yKbHOXYDVMS7",
        "outputId": "01d59798-8f97-420a-b6ea-bb3673d4bc25"
      },
      "source": [
        "df2"
      ],
      "execution_count": null,
      "outputs": [
        {
          "output_type": "execute_result",
          "data": {
            "text/html": [
              "<div>\n",
              "<style scoped>\n",
              "    .dataframe tbody tr th:only-of-type {\n",
              "        vertical-align: middle;\n",
              "    }\n",
              "\n",
              "    .dataframe tbody tr th {\n",
              "        vertical-align: top;\n",
              "    }\n",
              "\n",
              "    .dataframe thead th {\n",
              "        text-align: right;\n",
              "    }\n",
              "</style>\n",
              "<table border=\"1\" class=\"dataframe\">\n",
              "  <thead>\n",
              "    <tr style=\"text-align: right;\">\n",
              "      <th></th>\n",
              "      <th>Name</th>\n",
              "      <th>Rating</th>\n",
              "    </tr>\n",
              "  </thead>\n",
              "  <tbody>\n",
              "    <tr>\n",
              "      <th>0</th>\n",
              "      <td>3 Ninjas: High Noon at Mega Mountain</td>\n",
              "      <td>3.915254</td>\n",
              "    </tr>\n",
              "    <tr>\n",
              "      <th>1</th>\n",
              "      <td>Alone in the Dark</td>\n",
              "      <td>2.528958</td>\n",
              "    </tr>\n",
              "    <tr>\n",
              "      <th>2</th>\n",
              "      <td>Avengers: Endgame</td>\n",
              "      <td>7.996951</td>\n",
              "    </tr>\n",
              "    <tr>\n",
              "      <th>3</th>\n",
              "      <td>Avengers: Infinity War</td>\n",
              "      <td>8.175673</td>\n",
              "    </tr>\n",
              "    <tr>\n",
              "      <th>4</th>\n",
              "      <td>Baaghi 3</td>\n",
              "      <td>2.309829</td>\n",
              "    </tr>\n",
              "    <tr>\n",
              "      <th>5</th>\n",
              "      <td>Baby Geniuses</td>\n",
              "      <td>3.645161</td>\n",
              "    </tr>\n",
              "    <tr>\n",
              "      <th>6</th>\n",
              "      <td>Battlefield Earth</td>\n",
              "      <td>3.302235</td>\n",
              "    </tr>\n",
              "    <tr>\n",
              "      <th>7</th>\n",
              "      <td>Birdemic: Shock and Terror</td>\n",
              "      <td>3.546926</td>\n",
              "    </tr>\n",
              "    <tr>\n",
              "      <th>8</th>\n",
              "      <td>BloodRayne</td>\n",
              "      <td>3.271008</td>\n",
              "    </tr>\n",
              "    <tr>\n",
              "      <th>9</th>\n",
              "      <td>Bratz</td>\n",
              "      <td>5.076923</td>\n",
              "    </tr>\n",
              "    <tr>\n",
              "      <th>10</th>\n",
              "      <td>Breach</td>\n",
              "      <td>2.106944</td>\n",
              "    </tr>\n",
              "    <tr>\n",
              "      <th>11</th>\n",
              "      <td>Cats</td>\n",
              "      <td>4.728496</td>\n",
              "    </tr>\n",
              "    <tr>\n",
              "      <th>12</th>\n",
              "      <td>Code Name: K.O.Z.</td>\n",
              "      <td>2.588235</td>\n",
              "    </tr>\n",
              "    <tr>\n",
              "      <th>13</th>\n",
              "      <td>Dabangg 3</td>\n",
              "      <td>4.577570</td>\n",
              "    </tr>\n",
              "    <tr>\n",
              "      <th>14</th>\n",
              "      <td>Daniel the Wizard</td>\n",
              "      <td>2.733333</td>\n",
              "    </tr>\n",
              "    <tr>\n",
              "      <th>15</th>\n",
              "      <td>Date Movie</td>\n",
              "      <td>3.136667</td>\n",
              "    </tr>\n",
              "    <tr>\n",
              "      <th>16</th>\n",
              "      <td>Disaster Movie</td>\n",
              "      <td>2.622120</td>\n",
              "    </tr>\n",
              "    <tr>\n",
              "      <th>17</th>\n",
              "      <td>Dragonball Evolution</td>\n",
              "      <td>3.314530</td>\n",
              "    </tr>\n",
              "    <tr>\n",
              "      <th>18</th>\n",
              "      <td>Epic Movie</td>\n",
              "      <td>2.662261</td>\n",
              "    </tr>\n",
              "    <tr>\n",
              "      <th>19</th>\n",
              "      <td>Far Cry</td>\n",
              "      <td>4.370787</td>\n",
              "    </tr>\n",
              "    <tr>\n",
              "      <th>20</th>\n",
              "      <td>Foodfight!</td>\n",
              "      <td>2.266667</td>\n",
              "    </tr>\n",
              "    <tr>\n",
              "      <th>21</th>\n",
              "      <td>From Justin to Kelly</td>\n",
              "      <td>4.195312</td>\n",
              "    </tr>\n",
              "    <tr>\n",
              "      <th>22</th>\n",
              "      <td>Gigli</td>\n",
              "      <td>3.787791</td>\n",
              "    </tr>\n",
              "    <tr>\n",
              "      <th>23</th>\n",
              "      <td>Glitter</td>\n",
              "      <td>5.407843</td>\n",
              "    </tr>\n",
              "    <tr>\n",
              "      <th>24</th>\n",
              "      <td>Godzilla vs. Kong</td>\n",
              "      <td>6.955034</td>\n",
              "    </tr>\n",
              "    <tr>\n",
              "      <th>25</th>\n",
              "      <td>Going Overboard</td>\n",
              "      <td>2.729730</td>\n",
              "    </tr>\n",
              "    <tr>\n",
              "      <th>26</th>\n",
              "      <td>Gully</td>\n",
              "      <td>2.480000</td>\n",
              "    </tr>\n",
              "    <tr>\n",
              "      <th>27</th>\n",
              "      <td>Gunday</td>\n",
              "      <td>1.560345</td>\n",
              "    </tr>\n",
              "    <tr>\n",
              "      <th>28</th>\n",
              "      <td>Hobgoblins</td>\n",
              "      <td>1.735484</td>\n",
              "    </tr>\n",
              "    <tr>\n",
              "      <th>29</th>\n",
              "      <td>House of the Dead</td>\n",
              "      <td>2.604124</td>\n",
              "    </tr>\n",
              "    <tr>\n",
              "      <th>30</th>\n",
              "      <td>Iron Man 3</td>\n",
              "      <td>6.145137</td>\n",
              "    </tr>\n",
              "    <tr>\n",
              "      <th>31</th>\n",
              "      <td>Jaws: The Revenge</td>\n",
              "      <td>3.026525</td>\n",
              "    </tr>\n",
              "    <tr>\n",
              "      <th>32</th>\n",
              "      <td>Kazaam</td>\n",
              "      <td>4.465116</td>\n",
              "    </tr>\n",
              "    <tr>\n",
              "      <th>33</th>\n",
              "      <td>Kirk Cameron's Saving Christmas</td>\n",
              "      <td>3.269663</td>\n",
              "    </tr>\n",
              "    <tr>\n",
              "      <th>34</th>\n",
              "      <td>Laxmii</td>\n",
              "      <td>1.799874</td>\n",
              "    </tr>\n",
              "    <tr>\n",
              "      <th>35</th>\n",
              "      <td>Manos: The Hands of Fate</td>\n",
              "      <td>2.073504</td>\n",
              "    </tr>\n",
              "    <tr>\n",
              "      <th>36</th>\n",
              "      <td>Meet the Spartans</td>\n",
              "      <td>3.392435</td>\n",
              "    </tr>\n",
              "    <tr>\n",
              "      <th>37</th>\n",
              "      <td>Pledge This!</td>\n",
              "      <td>2.447059</td>\n",
              "    </tr>\n",
              "    <tr>\n",
              "      <th>38</th>\n",
              "      <td>Race 3</td>\n",
              "      <td>2.752735</td>\n",
              "    </tr>\n",
              "    <tr>\n",
              "      <th>39</th>\n",
              "      <td>Radhe</td>\n",
              "      <td>3.698942</td>\n",
              "    </tr>\n",
              "    <tr>\n",
              "      <th>40</th>\n",
              "      <td>Rollerball</td>\n",
              "      <td>3.135135</td>\n",
              "    </tr>\n",
              "    <tr>\n",
              "      <th>41</th>\n",
              "      <td>Santa Claus Conquers the Martians</td>\n",
              "      <td>4.350962</td>\n",
              "    </tr>\n",
              "    <tr>\n",
              "      <th>42</th>\n",
              "      <td>Smolensk</td>\n",
              "      <td>1.336667</td>\n",
              "    </tr>\n",
              "    <tr>\n",
              "      <th>43</th>\n",
              "      <td>Son of the Mask</td>\n",
              "      <td>3.042802</td>\n",
              "    </tr>\n",
              "    <tr>\n",
              "      <th>44</th>\n",
              "      <td>Spider-Man</td>\n",
              "      <td>7.788781</td>\n",
              "    </tr>\n",
              "    <tr>\n",
              "      <th>45</th>\n",
              "      <td>Steel</td>\n",
              "      <td>4.927273</td>\n",
              "    </tr>\n",
              "    <tr>\n",
              "      <th>46</th>\n",
              "      <td>Student of the Year 2</td>\n",
              "      <td>2.538226</td>\n",
              "    </tr>\n",
              "    <tr>\n",
              "      <th>47</th>\n",
              "      <td>Superbabies: Baby Geniuses 2</td>\n",
              "      <td>4.416000</td>\n",
              "    </tr>\n",
              "    <tr>\n",
              "      <th>48</th>\n",
              "      <td>Tees Maar Khan</td>\n",
              "      <td>2.626087</td>\n",
              "    </tr>\n",
              "    <tr>\n",
              "      <th>49</th>\n",
              "      <td>The Avengers</td>\n",
              "      <td>7.848329</td>\n",
              "    </tr>\n",
              "    <tr>\n",
              "      <th>50</th>\n",
              "      <td>The Hottie &amp; the Nottie</td>\n",
              "      <td>4.208333</td>\n",
              "    </tr>\n",
              "    <tr>\n",
              "      <th>51</th>\n",
              "      <td>The Human Centipede III (Final Sequence)</td>\n",
              "      <td>3.409722</td>\n",
              "    </tr>\n",
              "    <tr>\n",
              "      <th>52</th>\n",
              "      <td>The Oogieloves in the Big Balloon Adventure</td>\n",
              "      <td>4.352941</td>\n",
              "    </tr>\n",
              "    <tr>\n",
              "      <th>53</th>\n",
              "      <td>Titanic</td>\n",
              "      <td>7.387369</td>\n",
              "    </tr>\n",
              "    <tr>\n",
              "      <th>54</th>\n",
              "      <td>Troll 2</td>\n",
              "      <td>3.584507</td>\n",
              "    </tr>\n",
              "    <tr>\n",
              "      <th>55</th>\n",
              "      <td>Turks in Space</td>\n",
              "      <td>3.315789</td>\n",
              "    </tr>\n",
              "    <tr>\n",
              "      <th>56</th>\n",
              "      <td>Who's Your Caddy?</td>\n",
              "      <td>4.346154</td>\n",
              "    </tr>\n",
              "    <tr>\n",
              "      <th>57</th>\n",
              "      <td>X-Men: Days of Future Past</td>\n",
              "      <td>8.137019</td>\n",
              "    </tr>\n",
              "  </tbody>\n",
              "</table>\n",
              "</div>"
            ],
            "text/plain": [
              "                                           Name    Rating\n",
              "0          3 Ninjas: High Noon at Mega Mountain  3.915254\n",
              "1                             Alone in the Dark  2.528958\n",
              "2                             Avengers: Endgame  7.996951\n",
              "3                        Avengers: Infinity War  8.175673\n",
              "4                                      Baaghi 3  2.309829\n",
              "5                                 Baby Geniuses  3.645161\n",
              "6                             Battlefield Earth  3.302235\n",
              "7                    Birdemic: Shock and Terror  3.546926\n",
              "8                                    BloodRayne  3.271008\n",
              "9                                         Bratz  5.076923\n",
              "10                                       Breach  2.106944\n",
              "11                                         Cats  4.728496\n",
              "12                            Code Name: K.O.Z.  2.588235\n",
              "13                                    Dabangg 3  4.577570\n",
              "14                            Daniel the Wizard  2.733333\n",
              "15                                   Date Movie  3.136667\n",
              "16                               Disaster Movie  2.622120\n",
              "17                         Dragonball Evolution  3.314530\n",
              "18                                   Epic Movie  2.662261\n",
              "19                                      Far Cry  4.370787\n",
              "20                                   Foodfight!  2.266667\n",
              "21                         From Justin to Kelly  4.195312\n",
              "22                                        Gigli  3.787791\n",
              "23                                      Glitter  5.407843\n",
              "24                            Godzilla vs. Kong  6.955034\n",
              "25                              Going Overboard  2.729730\n",
              "26                                        Gully  2.480000\n",
              "27                                       Gunday  1.560345\n",
              "28                                   Hobgoblins  1.735484\n",
              "29                            House of the Dead  2.604124\n",
              "30                                   Iron Man 3  6.145137\n",
              "31                            Jaws: The Revenge  3.026525\n",
              "32                                       Kazaam  4.465116\n",
              "33              Kirk Cameron's Saving Christmas  3.269663\n",
              "34                                       Laxmii  1.799874\n",
              "35                     Manos: The Hands of Fate  2.073504\n",
              "36                            Meet the Spartans  3.392435\n",
              "37                                 Pledge This!  2.447059\n",
              "38                                       Race 3  2.752735\n",
              "39                                        Radhe  3.698942\n",
              "40                                   Rollerball  3.135135\n",
              "41            Santa Claus Conquers the Martians  4.350962\n",
              "42                                     Smolensk  1.336667\n",
              "43                              Son of the Mask  3.042802\n",
              "44                                   Spider-Man  7.788781\n",
              "45                                        Steel  4.927273\n",
              "46                        Student of the Year 2  2.538226\n",
              "47                 Superbabies: Baby Geniuses 2  4.416000\n",
              "48                               Tees Maar Khan  2.626087\n",
              "49                                 The Avengers  7.848329\n",
              "50                      The Hottie & the Nottie  4.208333\n",
              "51     The Human Centipede III (Final Sequence)  3.409722\n",
              "52  The Oogieloves in the Big Balloon Adventure  4.352941\n",
              "53                                      Titanic  7.387369\n",
              "54                                      Troll 2  3.584507\n",
              "55                               Turks in Space  3.315789\n",
              "56                            Who's Your Caddy?  4.346154\n",
              "57                   X-Men: Days of Future Past  8.137019"
            ]
          },
          "metadata": {},
          "execution_count": 51
        }
      ]
    },
    {
      "cell_type": "code",
      "metadata": {
        "colab": {
          "base_uri": "https://localhost:8080/"
        },
        "id": "DTY_8VNYVV9p",
        "outputId": "ab0ca9a4-b471-4983-ef2b-27012a218b48"
      },
      "source": [
        "goodmovies=[]\n",
        "badmovies=[]\n",
        "for ind in df2.index: \n",
        "  if df2['Rating'][ind]>4:\n",
        "    goodmovies.append(df2['Name'][ind])\n",
        "  else:\n",
        "    badmovies.append(df2['Name'][ind])\n",
        "gmcc=0\n",
        "bmcc=0\n",
        "for ind in df.index:\n",
        "  if df['Name'][ind] in goodmovies:\n",
        "    gmcc=gmcc+1\n",
        "  else:\n",
        "    bmcc=bmcc+1\n",
        "print(\"Number of reviews for good movies:\",gmcc);\n",
        "print(\"Number of reviews for bad movies:\",bmcc);"
      ],
      "execution_count": null,
      "outputs": [
        {
          "output_type": "stream",
          "name": "stdout",
          "text": [
            "Number of reviews for good movies: 27967\n",
            "Number of reviews for bad movies: 19908\n"
          ]
        }
      ]
    },
    {
      "cell_type": "code",
      "metadata": {
        "id": "Juchc3S_XlO4"
      },
      "source": [
        "dfg=df[df.Name.isin(goodmovies)]\n",
        "dfb=df[df.Name.isin(badmovies)]"
      ],
      "execution_count": null,
      "outputs": []
    },
    {
      "cell_type": "code",
      "metadata": {
        "colab": {
          "base_uri": "https://localhost:8080/"
        },
        "id": "cLwfwSiNugk2",
        "outputId": "b372ad4b-31d5-42c5-cb7c-de2258105705"
      },
      "source": [
        "dfg['Name'].value_counts().mean()"
      ],
      "execution_count": null,
      "outputs": [
        {
          "output_type": "execute_result",
          "data": {
            "text/plain": [
              "1331.7619047619048"
            ]
          },
          "metadata": {},
          "execution_count": 54
        }
      ]
    },
    {
      "cell_type": "code",
      "metadata": {
        "colab": {
          "base_uri": "https://localhost:8080/"
        },
        "id": "XwRAAK0guuIk",
        "outputId": "ea97d176-31a4-47dd-800b-832305ac7e2f"
      },
      "source": [
        "dfb['Name'].value_counts().mean()"
      ],
      "execution_count": null,
      "outputs": [
        {
          "output_type": "execute_result",
          "data": {
            "text/plain": [
              "538.0540540540541"
            ]
          },
          "metadata": {},
          "execution_count": 55
        }
      ]
    },
    {
      "cell_type": "code",
      "metadata": {
        "id": "1qBS8gqhvjMI"
      },
      "source": [
        "dfgs=dfg.sample(10000)"
      ],
      "execution_count": null,
      "outputs": []
    },
    {
      "cell_type": "code",
      "metadata": {
        "colab": {
          "base_uri": "https://localhost:8080/"
        },
        "id": "Rgq31LGiwrbF",
        "outputId": "2159d65a-8a19-4561-a2be-aa81277e19fe"
      },
      "source": [
        "dfgs['Name'].value_counts().mean()"
      ],
      "execution_count": null,
      "outputs": [
        {
          "output_type": "execute_result",
          "data": {
            "text/plain": [
              "476.1904761904762"
            ]
          },
          "metadata": {},
          "execution_count": 63
        }
      ]
    },
    {
      "cell_type": "code",
      "source": [
        "dfgs['Name'].value_counts().std()"
      ],
      "metadata": {
        "colab": {
          "base_uri": "https://localhost:8080/"
        },
        "id": "7uG5B70rd3xo",
        "outputId": "71311dad-bc68-4bc1-aaff-5065e315979b"
      },
      "execution_count": null,
      "outputs": [
        {
          "output_type": "execute_result",
          "data": {
            "text/plain": [
              "758.1310980989778"
            ]
          },
          "metadata": {},
          "execution_count": 64
        }
      ]
    },
    {
      "cell_type": "code",
      "metadata": {
        "colab": {
          "base_uri": "https://localhost:8080/",
          "height": 784
        },
        "id": "jicSVOyapfr3",
        "outputId": "55db7936-53de-4c9b-b9bd-4f537d727097"
      },
      "source": [
        "fig = plt.figure(figsize = (10, 10))\n",
        "sns.distplot(dfg['Name'].value_counts())\n",
        "sns.distplot(dfb['Name'].value_counts())\n",
        "plt.legend(loc='best')\n",
        "fig.suptitle('Comment Count Analysis')\n",
        "plt.show()"
      ],
      "execution_count": null,
      "outputs": [
        {
          "output_type": "stream",
          "name": "stderr",
          "text": [
            "/usr/local/lib/python3.7/dist-packages/seaborn/distributions.py:2619: FutureWarning: `distplot` is a deprecated function and will be removed in a future version. Please adapt your code to use either `displot` (a figure-level function with similar flexibility) or `histplot` (an axes-level function for histograms).\n",
            "  warnings.warn(msg, FutureWarning)\n",
            "/usr/local/lib/python3.7/dist-packages/seaborn/distributions.py:2619: FutureWarning: `distplot` is a deprecated function and will be removed in a future version. Please adapt your code to use either `displot` (a figure-level function with similar flexibility) or `histplot` (an axes-level function for histograms).\n",
            "  warnings.warn(msg, FutureWarning)\n",
            "No handles with labels found to put in legend.\n"
          ]
        },
        {
          "output_type": "display_data",
          "data": {
            "image/png": "[encoded data removed]",
            "text/plain": [
              "<Figure size 720x720 with 1 Axes>"
            ]
          },
          "metadata": {
            "needs_background": "light"
          }
        }
      ]
    },
    {
      "cell_type": "code",
      "metadata": {
        "id": "cDc46Vx4rmhw"
      },
      "source": [
        "def reviewsbytone():\n",
        "    import numpy as np\n",
        "    import scipy.stats\n",
        "    #Initial variables here\n",
        "    # ho:mu<=538 ; h1:mu>538\n",
        "    n = 10000\n",
        "    xbar = 476.19\n",
        "    mu = 538\n",
        "    s = 758.13\n",
        "    alpha = 0.01\n",
        "  \n",
        "    #Fill in your code here\n",
        "    t = (xbar-mu)/(s/np.sqrt(n))\n",
        "    t_critical = scipy.stats.norm.ppf(1-.01)\n",
        "    #Add your condition check\n",
        "    if t>=t_critical:\n",
        "      rejection=True\n",
        "    else:\n",
        "      rejection=False\n",
        "   \n",
        "    return rejection, t, t_critical"
      ],
      "execution_count": null,
      "outputs": []
    },
    {
      "cell_type": "code",
      "metadata": {
        "colab": {
          "base_uri": "https://localhost:8080/"
        },
        "id": "cANb2TI-2Ae8",
        "outputId": "b5441598-a150-4e3f-c544-77101fa98c90"
      },
      "source": [
        "reviewsbytone()"
      ],
      "execution_count": null,
      "outputs": [
        {
          "output_type": "execute_result",
          "data": {
            "text/plain": [
              "(False, -8.152955297904054, 2.326)"
            ]
          },
          "metadata": {},
          "execution_count": 72
        }
      ]
    },
    {
      "cell_type": "markdown",
      "source": [
        "Here, we can infer that our null hypothesis is standing by inferring that number of reviews for bad movies is lower than that of good ones."
      ],
      "metadata": {
        "id": "kCyQ51Zqgpcs"
      }
    },
    {
      "cell_type": "markdown",
      "source": [
        "**Dividing the movies on the basis of its year of origin we try to compare the 90's movies with the early and current 20's movies respectively based on their ratings.**"
      ],
      "metadata": {
        "id": "9FBuCJqjak4t"
      }
    },
    {
      "cell_type": "code",
      "metadata": {
        "id": "0xYm4naHTBAJ"
      },
      "source": [
        "map_dict = {\"(1964)\": 1964,\"(1966)\": 1966,\"(1987)\": 1987,\"(1988)\": 1988,\"(1989)\": 1989,\"(1990)\": 1990,\"(1996)\": 1996,\"(1997)\": 1997,\"(1998)\": 1998,\"(1999)\": 1999,\"(2000)\": 2000,\"(2001)\": 2001,\"(2002)\": 2002,\"(2003)\": 2003,\"(2004)\": 2004,\"(2005)\": 2005,\"(2006)\": 2006,\"(2007)\": 2007,\"(2008)\": 2008,\"(2009)\": 2009,\"(2010)\": 2010,\"(2012)\": 2012,\"(2013)\": 2013,\"(2014)\": 2014,\"(2015)\": 2015,\"(2016)\": 2016,\"(2018)\": 2018,\"(2019)\": 2019,\"(2020)\": 2020,\"(2021)\": 2021,\"(IV) (2020)\": 2020}\n",
        "df['YearofRelease'].replace(map_dict, inplace=True)"
      ],
      "execution_count": null,
      "outputs": []
    },
    {
      "cell_type": "code",
      "metadata": {
        "colab": {
          "base_uri": "https://localhost:8080/"
        },
        "id": "CJN0wklZIDYi",
        "outputId": "b16c5963-ef78-4c1d-8af6-7892e0499531"
      },
      "source": [
        "df.groupby(['YearofRelease','Name'])['Rating'].count()"
      ],
      "execution_count": null,
      "outputs": [
        {
          "output_type": "execute_result",
          "data": {
            "text/plain": [
              "YearofRelease  Name                                       \n",
              "1964           Santa Claus Conquers the Martians               208\n",
              "1966           Manos: The Hands of Fate                        585\n",
              "1987           Jaws: The Revenge                               377\n",
              "1988           Hobgoblins                                      155\n",
              "1989           Going Overboard                                 148\n",
              "1990           Troll 2                                         426\n",
              "1996           Kazaam                                           86\n",
              "1997           Steel                                            55\n",
              "               Titanic                                        2486\n",
              "1998           3 Ninjas: High Noon at Mega Mountain             59\n",
              "1999           Baby Geniuses                                   155\n",
              "2000           Battlefield Earth                              1029\n",
              "2001           Glitter                                         255\n",
              "2002           Rollerball                                      222\n",
              "               Spider-Man                                     1747\n",
              "2003           From Justin to Kelly                            256\n",
              "               Gigli                                           344\n",
              "               House of the Dead                               485\n",
              "2004           Daniel the Wizard                                45\n",
              "               Superbabies: Baby Geniuses 2                    125\n",
              "2005           Alone in the Dark                               518\n",
              "               BloodRayne                                      476\n",
              "               Son of the Mask                                 257\n",
              "2006           Date Movie                                      600\n",
              "               Pledge This!                                     85\n",
              "               Turks in Space                                   19\n",
              "2007           Bratz                                           117\n",
              "               Epic Movie                                      681\n",
              "               Who's Your Caddy?                                52\n",
              "2008           Disaster Movie                                  868\n",
              "               Far Cry                                          89\n",
              "               Meet the Spartans                               423\n",
              "               The Hottie & the Nottie                         120\n",
              "2009           Dragonball Evolution                            585\n",
              "2010           Birdemic: Shock and Terror                      309\n",
              "               Tees Maar Khan                                  115\n",
              "2012           Foodfight!                                      135\n",
              "               The Avengers                                   1945\n",
              "               The Oogieloves in the Big Balloon Adventure      85\n",
              "2013           Iron Man 3                                     1316\n",
              "2014           Gunday                                          812\n",
              "               Kirk Cameron's Saving Christmas                 178\n",
              "               X-Men: Days of Future Past                      832\n",
              "2015           Code Name: K.O.Z.                                68\n",
              "               The Human Centipede III (Final Sequence)        144\n",
              "2016           Smolensk                                        300\n",
              "2018           Avengers: Infinity War                         4349\n",
              "               Race 3                                          457\n",
              "2019           Avengers: Endgame                              9182\n",
              "               Cats                                           2081\n",
              "               Dabangg 3                                       535\n",
              "               Gully                                            25\n",
              "               Student of the Year 2                           327\n",
              "2020           Baaghi 3                                        468\n",
              "               Breach                                          720\n",
              "               Laxmii                                         4757\n",
              "2021           Godzilla vs. Kong                              2046\n",
              "               Radhe                                          2551\n",
              "Name: Rating, dtype: int64"
            ]
          },
          "metadata": {},
          "execution_count": 12
        }
      ]
    },
    {
      "cell_type": "code",
      "metadata": {
        "colab": {
          "base_uri": "https://localhost:8080/"
        },
        "id": "fxsh4WNpQm0l",
        "outputId": "6194d7ef-7fea-4c59-e803-9d8953f70338"
      },
      "source": [
        "df.nunique()"
      ],
      "execution_count": null,
      "outputs": [
        {
          "output_type": "execute_result",
          "data": {
            "text/plain": [
              "Gist             40527\n",
              "Name                58\n",
              "YearofRelease       30\n",
              "Date              6598\n",
              "Rating              10\n",
              "Tone                 2\n",
              "Comment          47303\n",
              "dtype: int64"
            ]
          },
          "metadata": {},
          "execution_count": 13
        }
      ]
    },
    {
      "cell_type": "code",
      "metadata": {
        "colab": {
          "base_uri": "https://localhost:8080/",
          "height": 990
        },
        "id": "MQ7ETe9rJseM",
        "outputId": "7e5fd8a1-dd4b-4d0d-bc3a-d6d65b61ff75"
      },
      "source": [
        "df.groupby('YearofRelease', as_index=False)['Rating'].count()"
      ],
      "execution_count": null,
      "outputs": [
        {
          "output_type": "execute_result",
          "data": {
            "text/html": [
              "<div>\n",
              "<style scoped>\n",
              "    .dataframe tbody tr th:only-of-type {\n",
              "        vertical-align: middle;\n",
              "    }\n",
              "\n",
              "    .dataframe tbody tr th {\n",
              "        vertical-align: top;\n",
              "    }\n",
              "\n",
              "    .dataframe thead th {\n",
              "        text-align: right;\n",
              "    }\n",
              "</style>\n",
              "<table border=\"1\" class=\"dataframe\">\n",
              "  <thead>\n",
              "    <tr style=\"text-align: right;\">\n",
              "      <th></th>\n",
              "      <th>YearofRelease</th>\n",
              "      <th>Rating</th>\n",
              "    </tr>\n",
              "  </thead>\n",
              "  <tbody>\n",
              "    <tr>\n",
              "      <th>0</th>\n",
              "      <td>1964</td>\n",
              "      <td>208</td>\n",
              "    </tr>\n",
              "    <tr>\n",
              "      <th>1</th>\n",
              "      <td>1966</td>\n",
              "      <td>585</td>\n",
              "    </tr>\n",
              "    <tr>\n",
              "      <th>2</th>\n",
              "      <td>1987</td>\n",
              "      <td>377</td>\n",
              "    </tr>\n",
              "    <tr>\n",
              "      <th>3</th>\n",
              "      <td>1988</td>\n",
              "      <td>155</td>\n",
              "    </tr>\n",
              "    <tr>\n",
              "      <th>4</th>\n",
              "      <td>1989</td>\n",
              "      <td>148</td>\n",
              "    </tr>\n",
              "    <tr>\n",
              "      <th>5</th>\n",
              "      <td>1990</td>\n",
              "      <td>426</td>\n",
              "    </tr>\n",
              "    <tr>\n",
              "      <th>6</th>\n",
              "      <td>1996</td>\n",
              "      <td>86</td>\n",
              "    </tr>\n",
              "    <tr>\n",
              "      <th>7</th>\n",
              "      <td>1997</td>\n",
              "      <td>2541</td>\n",
              "    </tr>\n",
              "    <tr>\n",
              "      <th>8</th>\n",
              "      <td>1998</td>\n",
              "      <td>59</td>\n",
              "    </tr>\n",
              "    <tr>\n",
              "      <th>9</th>\n",
              "      <td>1999</td>\n",
              "      <td>155</td>\n",
              "    </tr>\n",
              "    <tr>\n",
              "      <th>10</th>\n",
              "      <td>2000</td>\n",
              "      <td>1029</td>\n",
              "    </tr>\n",
              "    <tr>\n",
              "      <th>11</th>\n",
              "      <td>2001</td>\n",
              "      <td>255</td>\n",
              "    </tr>\n",
              "    <tr>\n",
              "      <th>12</th>\n",
              "      <td>2002</td>\n",
              "      <td>1969</td>\n",
              "    </tr>\n",
              "    <tr>\n",
              "      <th>13</th>\n",
              "      <td>2003</td>\n",
              "      <td>1085</td>\n",
              "    </tr>\n",
              "    <tr>\n",
              "      <th>14</th>\n",
              "      <td>2004</td>\n",
              "      <td>170</td>\n",
              "    </tr>\n",
              "    <tr>\n",
              "      <th>15</th>\n",
              "      <td>2005</td>\n",
              "      <td>1251</td>\n",
              "    </tr>\n",
              "    <tr>\n",
              "      <th>16</th>\n",
              "      <td>2006</td>\n",
              "      <td>704</td>\n",
              "    </tr>\n",
              "    <tr>\n",
              "      <th>17</th>\n",
              "      <td>2007</td>\n",
              "      <td>850</td>\n",
              "    </tr>\n",
              "    <tr>\n",
              "      <th>18</th>\n",
              "      <td>2008</td>\n",
              "      <td>1500</td>\n",
              "    </tr>\n",
              "    <tr>\n",
              "      <th>19</th>\n",
              "      <td>2009</td>\n",
              "      <td>585</td>\n",
              "    </tr>\n",
              "    <tr>\n",
              "      <th>20</th>\n",
              "      <td>2010</td>\n",
              "      <td>424</td>\n",
              "    </tr>\n",
              "    <tr>\n",
              "      <th>21</th>\n",
              "      <td>2012</td>\n",
              "      <td>2165</td>\n",
              "    </tr>\n",
              "    <tr>\n",
              "      <th>22</th>\n",
              "      <td>2013</td>\n",
              "      <td>1316</td>\n",
              "    </tr>\n",
              "    <tr>\n",
              "      <th>23</th>\n",
              "      <td>2014</td>\n",
              "      <td>1822</td>\n",
              "    </tr>\n",
              "    <tr>\n",
              "      <th>24</th>\n",
              "      <td>2015</td>\n",
              "      <td>212</td>\n",
              "    </tr>\n",
              "    <tr>\n",
              "      <th>25</th>\n",
              "      <td>2016</td>\n",
              "      <td>300</td>\n",
              "    </tr>\n",
              "    <tr>\n",
              "      <th>26</th>\n",
              "      <td>2018</td>\n",
              "      <td>4806</td>\n",
              "    </tr>\n",
              "    <tr>\n",
              "      <th>27</th>\n",
              "      <td>2019</td>\n",
              "      <td>12150</td>\n",
              "    </tr>\n",
              "    <tr>\n",
              "      <th>28</th>\n",
              "      <td>2020</td>\n",
              "      <td>5945</td>\n",
              "    </tr>\n",
              "    <tr>\n",
              "      <th>29</th>\n",
              "      <td>2021</td>\n",
              "      <td>4597</td>\n",
              "    </tr>\n",
              "  </tbody>\n",
              "</table>\n",
              "</div>"
            ],
            "text/plain": [
              "    YearofRelease  Rating\n",
              "0            1964     208\n",
              "1            1966     585\n",
              "2            1987     377\n",
              "3            1988     155\n",
              "4            1989     148\n",
              "5            1990     426\n",
              "6            1996      86\n",
              "7            1997    2541\n",
              "8            1998      59\n",
              "9            1999     155\n",
              "10           2000    1029\n",
              "11           2001     255\n",
              "12           2002    1969\n",
              "13           2003    1085\n",
              "14           2004     170\n",
              "15           2005    1251\n",
              "16           2006     704\n",
              "17           2007     850\n",
              "18           2008    1500\n",
              "19           2009     585\n",
              "20           2010     424\n",
              "21           2012    2165\n",
              "22           2013    1316\n",
              "23           2014    1822\n",
              "24           2015     212\n",
              "25           2016     300\n",
              "26           2018    4806\n",
              "27           2019   12150\n",
              "28           2020    5945\n",
              "29           2021    4597"
            ]
          },
          "metadata": {},
          "execution_count": 14
        }
      ]
    },
    {
      "cell_type": "code",
      "metadata": {
        "colab": {
          "base_uri": "https://localhost:8080/",
          "height": 423
        },
        "id": "Q-ai3G9LXjji",
        "outputId": "627026b1-4332-43b0-b93f-9abb425055ab"
      },
      "source": [
        "n = df.loc[df['YearofRelease'] < 2000]\n",
        "n"
      ],
      "execution_count": null,
      "outputs": [
        {
          "output_type": "execute_result",
          "data": {
            "text/html": [
              "<div>\n",
              "<style scoped>\n",
              "    .dataframe tbody tr th:only-of-type {\n",
              "        vertical-align: middle;\n",
              "    }\n",
              "\n",
              "    .dataframe tbody tr th {\n",
              "        vertical-align: top;\n",
              "    }\n",
              "\n",
              "    .dataframe thead th {\n",
              "        text-align: right;\n",
              "    }\n",
              "</style>\n",
              "<table border=\"1\" class=\"dataframe\">\n",
              "  <thead>\n",
              "    <tr style=\"text-align: right;\">\n",
              "      <th></th>\n",
              "      <th>Gist</th>\n",
              "      <th>Name</th>\n",
              "      <th>YearofRelease</th>\n",
              "      <th>Date</th>\n",
              "      <th>Rating</th>\n",
              "      <th>Tone</th>\n",
              "      <th>Comment</th>\n",
              "    </tr>\n",
              "  </thead>\n",
              "  <tbody>\n",
              "    <tr>\n",
              "      <th>0</th>\n",
              "      <td>Amazing in 1997, 2005, 2015, 2030, 3010 &amp; for...</td>\n",
              "      <td>Titanic</td>\n",
              "      <td>1997</td>\n",
              "      <td>20 January 2015</td>\n",
              "      <td>10.0</td>\n",
              "      <td>1</td>\n",
              "      <td>You can watch this movie in 1997, you can watc...</td>\n",
              "    </tr>\n",
              "    <tr>\n",
              "      <th>1</th>\n",
              "      <td>Why only a 7.8?\\n</td>\n",
              "      <td>Titanic</td>\n",
              "      <td>1997</td>\n",
              "      <td>13 July 2020</td>\n",
              "      <td>9.0</td>\n",
              "      <td>1</td>\n",
              "      <td>There is no movie which made a bigger emotiona...</td>\n",
              "    </tr>\n",
              "    <tr>\n",
              "      <th>2</th>\n",
              "      <td>Titanic masterpiece: an emotional and visual ...</td>\n",
              "      <td>Titanic</td>\n",
              "      <td>1997</td>\n",
              "      <td>31 August 2015</td>\n",
              "      <td>10.0</td>\n",
              "      <td>1</td>\n",
              "      <td>Titanic is one of my all time favourite films....</td>\n",
              "    </tr>\n",
              "    <tr>\n",
              "      <th>3</th>\n",
              "      <td>Don't get the low rating\\n</td>\n",
              "      <td>Titanic</td>\n",
              "      <td>1997</td>\n",
              "      <td>31 January 2021</td>\n",
              "      <td>10.0</td>\n",
              "      <td>1</td>\n",
              "      <td>The low rating makes no sense to me at all... ...</td>\n",
              "    </tr>\n",
              "    <tr>\n",
              "      <th>4</th>\n",
              "      <td>This was one of the few movies that actually ...</td>\n",
              "      <td>Titanic</td>\n",
              "      <td>1997</td>\n",
              "      <td>5 December 2014</td>\n",
              "      <td>10.0</td>\n",
              "      <td>1</td>\n",
              "      <td>Good Lord. This movie right here, it's a maste...</td>\n",
              "    </tr>\n",
              "    <tr>\n",
              "      <th>...</th>\n",
              "      <td>...</td>\n",
              "      <td>...</td>\n",
              "      <td>...</td>\n",
              "      <td>...</td>\n",
              "      <td>...</td>\n",
              "      <td>...</td>\n",
              "      <td>...</td>\n",
              "    </tr>\n",
              "    <tr>\n",
              "      <th>49298</th>\n",
              "      <td>WOW that wasn't good\\n</td>\n",
              "      <td>3 Ninjas: High Noon at Mega Mountain</td>\n",
              "      <td>1998</td>\n",
              "      <td>25 January 2007</td>\n",
              "      <td>2.0</td>\n",
              "      <td>0</td>\n",
              "      <td>When I was younger when this movie was release...</td>\n",
              "    </tr>\n",
              "    <tr>\n",
              "      <th>49299</th>\n",
              "      <td>Wasn't that bad\\n</td>\n",
              "      <td>3 Ninjas: High Noon at Mega Mountain</td>\n",
              "      <td>1998</td>\n",
              "      <td>27 November 2006</td>\n",
              "      <td>5.0</td>\n",
              "      <td>0</td>\n",
              "      <td>At least the sequels weren't *that* bad, altho...</td>\n",
              "    </tr>\n",
              "    <tr>\n",
              "      <th>49301</th>\n",
              "      <td>Sweet, merciful Jesus, why?\\n</td>\n",
              "      <td>3 Ninjas: High Noon at Mega Mountain</td>\n",
              "      <td>1998</td>\n",
              "      <td>8 August 2006</td>\n",
              "      <td>1.0</td>\n",
              "      <td>0</td>\n",
              "      <td>Once I saw a movie review, where the reviewer ...</td>\n",
              "    </tr>\n",
              "    <tr>\n",
              "      <th>49302</th>\n",
              "      <td>What?\\n</td>\n",
              "      <td>3 Ninjas: High Noon at Mega Mountain</td>\n",
              "      <td>1998</td>\n",
              "      <td>14 July 2006</td>\n",
              "      <td>1.0</td>\n",
              "      <td>0</td>\n",
              "      <td>How could anyone possibly say anything bad abo...</td>\n",
              "    </tr>\n",
              "    <tr>\n",
              "      <th>49303</th>\n",
              "      <td>OK plot, but wrong actors, they should of kep...</td>\n",
              "      <td>3 Ninjas: High Noon at Mega Mountain</td>\n",
              "      <td>1998</td>\n",
              "      <td>23 April 2006</td>\n",
              "      <td>2.0</td>\n",
              "      <td>0</td>\n",
              "      <td>OK I've been watching the 3 Ninjas over and ov...</td>\n",
              "    </tr>\n",
              "  </tbody>\n",
              "</table>\n",
              "<p>4740 rows × 7 columns</p>\n",
              "</div>"
            ],
            "text/plain": [
              "                                                    Gist  ...                                            Comment\n",
              "0       Amazing in 1997, 2005, 2015, 2030, 3010 & for...  ...  You can watch this movie in 1997, you can watc...\n",
              "1                                      Why only a 7.8?\\n  ...  There is no movie which made a bigger emotiona...\n",
              "2       Titanic masterpiece: an emotional and visual ...  ...  Titanic is one of my all time favourite films....\n",
              "3                             Don't get the low rating\\n  ...  The low rating makes no sense to me at all... ...\n",
              "4       This was one of the few movies that actually ...  ...  Good Lord. This movie right here, it's a maste...\n",
              "...                                                  ...  ...                                                ...\n",
              "49298                             WOW that wasn't good\\n  ...  When I was younger when this movie was release...\n",
              "49299                                  Wasn't that bad\\n  ...  At least the sequels weren't *that* bad, altho...\n",
              "49301                      Sweet, merciful Jesus, why?\\n  ...  Once I saw a movie review, where the reviewer ...\n",
              "49302                                            What?\\n  ...  How could anyone possibly say anything bad abo...\n",
              "49303   OK plot, but wrong actors, they should of kep...  ...  OK I've been watching the 3 Ninjas over and ov...\n",
              "\n",
              "[4740 rows x 7 columns]"
            ]
          },
          "metadata": {},
          "execution_count": 15
        }
      ]
    },
    {
      "cell_type": "code",
      "metadata": {
        "colab": {
          "base_uri": "https://localhost:8080/"
        },
        "id": "2M62wzV5Z0Rc",
        "outputId": "d47174ad-18da-4dd3-8339-e65fc29664a7"
      },
      "source": [
        "n['Rating'].mean()"
      ],
      "execution_count": null,
      "outputs": [
        {
          "output_type": "execute_result",
          "data": {
            "text/plain": [
              "5.332278481012659"
            ]
          },
          "metadata": {},
          "execution_count": 16
        }
      ]
    },
    {
      "cell_type": "code",
      "metadata": {
        "colab": {
          "base_uri": "https://localhost:8080/"
        },
        "id": "k3vcscynggyf",
        "outputId": "70b786f4-e092-44c7-8b04-48df7d3912e0"
      },
      "source": [
        "n['Rating'].std()"
      ],
      "execution_count": null,
      "outputs": [
        {
          "output_type": "execute_result",
          "data": {
            "text/plain": [
              "3.870821407032666"
            ]
          },
          "metadata": {},
          "execution_count": 17
        }
      ]
    },
    {
      "cell_type": "code",
      "metadata": {
        "colab": {
          "base_uri": "https://localhost:8080/",
          "height": 206
        },
        "id": "8bsu7Y5QaPz4",
        "outputId": "9aa96af8-9a42-4632-d334-553488c21819"
      },
      "source": [
        "t1 = df.loc[(df['YearofRelease'] >= 2000) & (df['YearofRelease'] <2011)]\n",
        "t1.head()"
      ],
      "execution_count": null,
      "outputs": [
        {
          "output_type": "execute_result",
          "data": {
            "text/html": [
              "<div>\n",
              "<style scoped>\n",
              "    .dataframe tbody tr th:only-of-type {\n",
              "        vertical-align: middle;\n",
              "    }\n",
              "\n",
              "    .dataframe tbody tr th {\n",
              "        vertical-align: top;\n",
              "    }\n",
              "\n",
              "    .dataframe thead th {\n",
              "        text-align: right;\n",
              "    }\n",
              "</style>\n",
              "<table border=\"1\" class=\"dataframe\">\n",
              "  <thead>\n",
              "    <tr style=\"text-align: right;\">\n",
              "      <th></th>\n",
              "      <th>Gist</th>\n",
              "      <th>Name</th>\n",
              "      <th>YearofRelease</th>\n",
              "      <th>Date</th>\n",
              "      <th>Rating</th>\n",
              "      <th>Tone</th>\n",
              "      <th>Comment</th>\n",
              "    </tr>\n",
              "  </thead>\n",
              "  <tbody>\n",
              "    <tr>\n",
              "      <th>14402</th>\n",
              "      <td>My Eyes!!!!\\n</td>\n",
              "      <td>Disaster Movie</td>\n",
              "      <td>2008</td>\n",
              "      <td>28 August 2008</td>\n",
              "      <td>1.0</td>\n",
              "      <td>0</td>\n",
              "      <td>It's hard to imagine anyone writing a 'spoof' ...</td>\n",
              "    </tr>\n",
              "    <tr>\n",
              "      <th>14403</th>\n",
              "      <td>The fact that aspiring actors, directors, and...</td>\n",
              "      <td>Disaster Movie</td>\n",
              "      <td>2008</td>\n",
              "      <td>28 August 2008</td>\n",
              "      <td>1.0</td>\n",
              "      <td>0</td>\n",
              "      <td>*Disclaimer: I only watched this movie as a co...</td>\n",
              "    </tr>\n",
              "    <tr>\n",
              "      <th>14404</th>\n",
              "      <td>There's just no point anymore\\n</td>\n",
              "      <td>Disaster Movie</td>\n",
              "      <td>2008</td>\n",
              "      <td>29 August 2008</td>\n",
              "      <td>1.0</td>\n",
              "      <td>0</td>\n",
              "      <td>Really, I could write a scathing review of thi...</td>\n",
              "    </tr>\n",
              "    <tr>\n",
              "      <th>14405</th>\n",
              "      <td>Not Humorous...in the least bit\\n</td>\n",
              "      <td>Disaster Movie</td>\n",
              "      <td>2008</td>\n",
              "      <td>28 August 2008</td>\n",
              "      <td>1.0</td>\n",
              "      <td>0</td>\n",
              "      <td>I am writing this in hopes that this gets put ...</td>\n",
              "    </tr>\n",
              "    <tr>\n",
              "      <th>14406</th>\n",
              "      <td>Awful, pure stupidity\\n</td>\n",
              "      <td>Disaster Movie</td>\n",
              "      <td>2008</td>\n",
              "      <td>29 August 2008</td>\n",
              "      <td>1.0</td>\n",
              "      <td>0</td>\n",
              "      <td>This movie I saw a day early for free and I st...</td>\n",
              "    </tr>\n",
              "  </tbody>\n",
              "</table>\n",
              "</div>"
            ],
            "text/plain": [
              "                                                    Gist  ...                                            Comment\n",
              "14402                                      My Eyes!!!!\\n  ...  It's hard to imagine anyone writing a 'spoof' ...\n",
              "14403   The fact that aspiring actors, directors, and...  ...  *Disclaimer: I only watched this movie as a co...\n",
              "14404                    There's just no point anymore\\n  ...  Really, I could write a scathing review of thi...\n",
              "14405                  Not Humorous...in the least bit\\n  ...  I am writing this in hopes that this gets put ...\n",
              "14406                            Awful, pure stupidity\\n  ...  This movie I saw a day early for free and I st...\n",
              "\n",
              "[5 rows x 7 columns]"
            ]
          },
          "metadata": {},
          "execution_count": 18
        }
      ]
    },
    {
      "cell_type": "markdown",
      "metadata": {
        "id": "3qCGbcSIEFC_"
      },
      "source": [
        "Taking a sample of 500 movies from the early 20's"
      ]
    },
    {
      "cell_type": "code",
      "metadata": {
        "colab": {
          "base_uri": "https://localhost:8080/",
          "height": 423
        },
        "id": "mLHvrKC1bUsE",
        "outputId": "772bec95-e022-4d83-9351-63bfa304d692"
      },
      "source": [
        "t12 = t1.sample(n=500)\n",
        "t12"
      ],
      "execution_count": null,
      "outputs": [
        {
          "output_type": "execute_result",
          "data": {
            "text/html": [
              "<div>\n",
              "<style scoped>\n",
              "    .dataframe tbody tr th:only-of-type {\n",
              "        vertical-align: middle;\n",
              "    }\n",
              "\n",
              "    .dataframe tbody tr th {\n",
              "        vertical-align: top;\n",
              "    }\n",
              "\n",
              "    .dataframe thead th {\n",
              "        text-align: right;\n",
              "    }\n",
              "</style>\n",
              "<table border=\"1\" class=\"dataframe\">\n",
              "  <thead>\n",
              "    <tr style=\"text-align: right;\">\n",
              "      <th></th>\n",
              "      <th>Gist</th>\n",
              "      <th>Name</th>\n",
              "      <th>YearofRelease</th>\n",
              "      <th>Date</th>\n",
              "      <th>Rating</th>\n",
              "      <th>Tone</th>\n",
              "      <th>Comment</th>\n",
              "    </tr>\n",
              "  </thead>\n",
              "  <tbody>\n",
              "    <tr>\n",
              "      <th>35023</th>\n",
              "      <td>Epic Fail\\n</td>\n",
              "      <td>Epic Movie</td>\n",
              "      <td>2007</td>\n",
              "      <td>15 June 2008</td>\n",
              "      <td>1.0</td>\n",
              "      <td>0</td>\n",
              "      <td>Please disregard the one star on this review. ...</td>\n",
              "    </tr>\n",
              "    <tr>\n",
              "      <th>25166</th>\n",
              "      <td>\"Not so\" Amazing Spider-Man\\n</td>\n",
              "      <td>Spider-Man</td>\n",
              "      <td>2002</td>\n",
              "      <td>26 October 2003</td>\n",
              "      <td>7.0</td>\n",
              "      <td>1</td>\n",
              "      <td>The first half of the movie was very good. Why...</td>\n",
              "    </tr>\n",
              "    <tr>\n",
              "      <th>24745</th>\n",
              "      <td>See this movie\\n</td>\n",
              "      <td>Spider-Man</td>\n",
              "      <td>2002</td>\n",
              "      <td>7 May 2002</td>\n",
              "      <td>9.0</td>\n",
              "      <td>1</td>\n",
              "      <td>See this movie, see it now. You will not be di...</td>\n",
              "    </tr>\n",
              "    <tr>\n",
              "      <th>34621</th>\n",
              "      <td>you are all too cruel, this is a fun movie\\n</td>\n",
              "      <td>Alone in the Dark</td>\n",
              "      <td>2005</td>\n",
              "      <td>6 April 2006</td>\n",
              "      <td>7.0</td>\n",
              "      <td>1</td>\n",
              "      <td>It is amazing how many people don't like this ...</td>\n",
              "    </tr>\n",
              "    <tr>\n",
              "      <th>24114</th>\n",
              "      <td>\"Does Whatever a Spider Can\", A spider can do...</td>\n",
              "      <td>Spider-Man</td>\n",
              "      <td>2002</td>\n",
              "      <td>25 July 2002</td>\n",
              "      <td>10.0</td>\n",
              "      <td>1</td>\n",
              "      <td>This movie is outstanding, I saw it the first ...</td>\n",
              "    </tr>\n",
              "    <tr>\n",
              "      <th>...</th>\n",
              "      <td>...</td>\n",
              "      <td>...</td>\n",
              "      <td>...</td>\n",
              "      <td>...</td>\n",
              "      <td>...</td>\n",
              "      <td>...</td>\n",
              "      <td>...</td>\n",
              "    </tr>\n",
              "    <tr>\n",
              "      <th>35121</th>\n",
              "      <td>You should know what this is!\\n</td>\n",
              "      <td>Epic Movie</td>\n",
              "      <td>2007</td>\n",
              "      <td>22 July 2018</td>\n",
              "      <td>3.0</td>\n",
              "      <td>0</td>\n",
              "      <td>Let's star off by telling you what this movie ...</td>\n",
              "    </tr>\n",
              "    <tr>\n",
              "      <th>34091</th>\n",
              "      <td>A struggling singer realizes her dream of bec...</td>\n",
              "      <td>Glitter</td>\n",
              "      <td>2001</td>\n",
              "      <td>12 September 2002</td>\n",
              "      <td>1.0</td>\n",
              "      <td>0</td>\n",
              "      <td>I watcheed this film when I was in the hospita...</td>\n",
              "    </tr>\n",
              "    <tr>\n",
              "      <th>35227</th>\n",
              "      <td>Do. Not. Watch. Ever.\\n</td>\n",
              "      <td>Epic Movie</td>\n",
              "      <td>2007</td>\n",
              "      <td>30 January 2008</td>\n",
              "      <td>1.0</td>\n",
              "      <td>0</td>\n",
              "      <td>I'll be honest, I did not see the entire movie...</td>\n",
              "    </tr>\n",
              "    <tr>\n",
              "      <th>24664</th>\n",
              "      <td>Should Have Let James Cameron Direct it...\\n</td>\n",
              "      <td>Spider-Man</td>\n",
              "      <td>2002</td>\n",
              "      <td>4 May 2002</td>\n",
              "      <td>3.0</td>\n",
              "      <td>0</td>\n",
              "      <td>This movie starts out great but loses a lot of...</td>\n",
              "    </tr>\n",
              "    <tr>\n",
              "      <th>43250</th>\n",
              "      <td>Are you kidding me?!\\n</td>\n",
              "      <td>Dragonball Evolution</td>\n",
              "      <td>2009</td>\n",
              "      <td>18 March 2009</td>\n",
              "      <td>3.0</td>\n",
              "      <td>0</td>\n",
              "      <td>If your going to make a movie based on a very ...</td>\n",
              "    </tr>\n",
              "  </tbody>\n",
              "</table>\n",
              "<p>500 rows × 7 columns</p>\n",
              "</div>"
            ],
            "text/plain": [
              "                                                    Gist  ...                                            Comment\n",
              "35023                                        Epic Fail\\n  ...  Please disregard the one star on this review. ...\n",
              "25166                      \"Not so\" Amazing Spider-Man\\n  ...  The first half of the movie was very good. Why...\n",
              "24745                                   See this movie\\n  ...  See this movie, see it now. You will not be di...\n",
              "34621       you are all too cruel, this is a fun movie\\n  ...  It is amazing how many people don't like this ...\n",
              "24114   \"Does Whatever a Spider Can\", A spider can do...  ...  This movie is outstanding, I saw it the first ...\n",
              "...                                                  ...  ...                                                ...\n",
              "35121                    You should know what this is!\\n  ...  Let's star off by telling you what this movie ...\n",
              "34091   A struggling singer realizes her dream of bec...  ...  I watcheed this film when I was in the hospita...\n",
              "35227                            Do. Not. Watch. Ever.\\n  ...  I'll be honest, I did not see the entire movie...\n",
              "24664       Should Have Let James Cameron Direct it...\\n  ...  This movie starts out great but loses a lot of...\n",
              "43250                             Are you kidding me?!\\n  ...  If your going to make a movie based on a very ...\n",
              "\n",
              "[500 rows x 7 columns]"
            ]
          },
          "metadata": {},
          "execution_count": 19
        }
      ]
    },
    {
      "cell_type": "code",
      "metadata": {
        "colab": {
          "base_uri": "https://localhost:8080/"
        },
        "outputId": "6521d361-1873-4019-b24a-f03e11512f1f",
        "id": "UBBnezcFKNzd"
      },
      "source": [
        "t12['Rating'].mean()"
      ],
      "execution_count": null,
      "outputs": [
        {
          "output_type": "execute_result",
          "data": {
            "text/plain": [
              "3.77"
            ]
          },
          "metadata": {},
          "execution_count": 23
        }
      ]
    },
    {
      "cell_type": "markdown",
      "metadata": {
        "id": "l8xLouasKNze"
      },
      "source": [
        "z-test using critical value"
      ]
    },
    {
      "cell_type": "code",
      "metadata": {
        "id": "HSmZJigMKNze"
      },
      "source": [
        "import math\n",
        "from math import sqrt\n",
        "import scipy.stats\n",
        "from scipy.stats import norm\n",
        "import scipy.stats\n",
        "import numpy as np\n",
        "def yor():\n",
        "    #Hypothesis \n",
        "    # H0: mu <= 5.33 ; Ha: mu > 5.33\n",
        "    \n",
        "    n = 500\n",
        "    xbar = 3.77\n",
        "    mu = 5.33\n",
        "    sigma = 3.87\n",
        "    alpha = 0.05\n",
        "    \n",
        "    z = (xbar - mu) / (sigma/np.sqrt(n))\n",
        "    z_critical = scipy.stats.norm.ppf(1-.05)\n",
        "    \n",
        "    \n",
        "    if(z < z_critical):\n",
        "        rejection = False \n",
        "    else:\n",
        "        rejection = True\n",
        "        \n",
        "    return rejection, z, z_critical"
      ],
      "execution_count": null,
      "outputs": []
    },
    {
      "cell_type": "code",
      "metadata": {
        "colab": {
          "base_uri": "https://localhost:8080/"
        },
        "outputId": "bc582366-167d-4832-934f-b3d2761960c6",
        "id": "rnXNXpn0KNze"
      },
      "source": [
        "yor()"
      ],
      "execution_count": null,
      "outputs": [
        {
          "output_type": "execute_result",
          "data": {
            "text/plain": [
              "(False, -9.013607351161944, 1.6448536269514722)"
            ]
          },
          "metadata": {},
          "execution_count": 48
        }
      ]
    },
    {
      "cell_type": "markdown",
      "metadata": {
        "id": "TcriDMTeKNze"
      },
      "source": [
        "Here we can infer that our null hypothesis is standing by infering 90's has lower rating compared to early 20's films"
      ]
    },
    {
      "cell_type": "code",
      "metadata": {
        "colab": {
          "base_uri": "https://localhost:8080/",
          "height": 206
        },
        "outputId": "5f56c272-ea15-4a79-81ad-6bc28736fac5",
        "id": "efd1xWwJKNze"
      },
      "source": [
        "t2 = df.loc[(df['YearofRelease'] >= 2011)]\n",
        "t2.head()"
      ],
      "execution_count": null,
      "outputs": [
        {
          "output_type": "execute_result",
          "data": {
            "text/html": [
              "<div>\n",
              "<style scoped>\n",
              "    .dataframe tbody tr th:only-of-type {\n",
              "        vertical-align: middle;\n",
              "    }\n",
              "\n",
              "    .dataframe tbody tr th {\n",
              "        vertical-align: top;\n",
              "    }\n",
              "\n",
              "    .dataframe thead th {\n",
              "        text-align: right;\n",
              "    }\n",
              "</style>\n",
              "<table border=\"1\" class=\"dataframe\">\n",
              "  <thead>\n",
              "    <tr style=\"text-align: right;\">\n",
              "      <th></th>\n",
              "      <th>Gist</th>\n",
              "      <th>Name</th>\n",
              "      <th>YearofRelease</th>\n",
              "      <th>Date</th>\n",
              "      <th>Rating</th>\n",
              "      <th>Tone</th>\n",
              "      <th>Comment</th>\n",
              "    </tr>\n",
              "  </thead>\n",
              "  <tbody>\n",
              "    <tr>\n",
              "      <th>3032</th>\n",
              "      <td>Great action, cool visuals and that's about i...</td>\n",
              "      <td>Godzilla vs. Kong</td>\n",
              "      <td>2021</td>\n",
              "      <td>3 April 2021</td>\n",
              "      <td>7.0</td>\n",
              "      <td>1</td>\n",
              "      <td>I am glad I watched this film for 3 reasons: 1...</td>\n",
              "    </tr>\n",
              "    <tr>\n",
              "      <th>3033</th>\n",
              "      <td>Am i the only one who thought this was overhy...</td>\n",
              "      <td>Godzilla vs. Kong</td>\n",
              "      <td>2021</td>\n",
              "      <td>26 March 2021</td>\n",
              "      <td>6.0</td>\n",
              "      <td>1</td>\n",
              "      <td>I liked the action but once again, The story a...</td>\n",
              "    </tr>\n",
              "    <tr>\n",
              "      <th>3034</th>\n",
              "      <td>Thank goodness for the children.\\n</td>\n",
              "      <td>Godzilla vs. Kong</td>\n",
              "      <td>2021</td>\n",
              "      <td>4 April 2021</td>\n",
              "      <td>5.0</td>\n",
              "      <td>0</td>\n",
              "      <td>This is another movie where children save the ...</td>\n",
              "    </tr>\n",
              "    <tr>\n",
              "      <th>3035</th>\n",
              "      <td>Great CGI can't compensate for awful story.\\n</td>\n",
              "      <td>Godzilla vs. Kong</td>\n",
              "      <td>2021</td>\n",
              "      <td>2 April 2021</td>\n",
              "      <td>5.0</td>\n",
              "      <td>0</td>\n",
              "      <td>This is a mindless, plotless action flick with...</td>\n",
              "    </tr>\n",
              "    <tr>\n",
              "      <th>3036</th>\n",
              "      <td>Epic battles with an uninspired plot.\\n</td>\n",
              "      <td>Godzilla vs. Kong</td>\n",
              "      <td>2021</td>\n",
              "      <td>1 April 2021</td>\n",
              "      <td>7.0</td>\n",
              "      <td>1</td>\n",
              "      <td>Rating basically for the epic battles in this ...</td>\n",
              "    </tr>\n",
              "  </tbody>\n",
              "</table>\n",
              "</div>"
            ],
            "text/plain": [
              "                                                   Gist  ...                                            Comment\n",
              "3032   Great action, cool visuals and that's about i...  ...  I am glad I watched this film for 3 reasons: 1...\n",
              "3033   Am i the only one who thought this was overhy...  ...  I liked the action but once again, The story a...\n",
              "3034                 Thank goodness for the children.\\n  ...  This is another movie where children save the ...\n",
              "3035      Great CGI can't compensate for awful story.\\n  ...  This is a mindless, plotless action flick with...\n",
              "3036            Epic battles with an uninspired plot.\\n  ...  Rating basically for the epic battles in this ...\n",
              "\n",
              "[5 rows x 7 columns]"
            ]
          },
          "metadata": {},
          "execution_count": 28
        }
      ]
    },
    {
      "cell_type": "code",
      "source": [
        "t2['Rating'].mean()"
      ],
      "metadata": {
        "colab": {
          "base_uri": "https://localhost:8080/"
        },
        "id": "tXt8nfucBIjn",
        "outputId": "4da78578-eda8-49fe-cc86-7c29875c535b"
      },
      "execution_count": null,
      "outputs": [
        {
          "output_type": "execute_result",
          "data": {
            "text/plain": [
              "5.762435085402095"
            ]
          },
          "metadata": {},
          "execution_count": 35
        }
      ]
    },
    {
      "cell_type": "code",
      "source": [
        "t2['Rating'].std()"
      ],
      "metadata": {
        "colab": {
          "base_uri": "https://localhost:8080/"
        },
        "id": "ngxn0KSJBPqz",
        "outputId": "49079f3b-00db-4819-8f71-4b47a6fd886e"
      },
      "execution_count": null,
      "outputs": [
        {
          "output_type": "execute_result",
          "data": {
            "text/plain": [
              "3.8249942365648106"
            ]
          },
          "metadata": {},
          "execution_count": 36
        }
      ]
    },
    {
      "cell_type": "markdown",
      "metadata": {
        "id": "yM6EX6dxKNzf"
      },
      "source": [
        "Null Hypothesis here is that the current 20's movies have higher rating compared to the early 20's and the alternate is that current 20's has the lowest rating"
      ]
    },
    {
      "cell_type": "code",
      "metadata": {
        "id": "Jer8Vs4vKNzf"
      },
      "source": [
        "def yor1():\n",
        "    #Hypothesis \n",
        "    # H0: mu >= 5.76 ; Ha: mu < 5.76\n",
        "    \n",
        "    n = 500\n",
        "    xbar = 3.77\n",
        "    mu = 5.76\n",
        "    sigma = 3.82\n",
        "    alpha = 0.05\n",
        "    \n",
        "    z = (xbar - mu) / (sigma/np.sqrt(n))\n",
        "    z_critical = scipy.stats.norm.ppf(.05)\n",
        "    \n",
        "    \n",
        "    if(z < z_critical):\n",
        "        rejection = False \n",
        "    else:\n",
        "        rejection = True\n",
        "        \n",
        "    return rejection, z, z_critical"
      ],
      "execution_count": null,
      "outputs": []
    },
    {
      "cell_type": "code",
      "metadata": {
        "colab": {
          "base_uri": "https://localhost:8080/"
        },
        "outputId": "7618e431-972f-4091-e614-2ccdd237c609",
        "id": "lUvHQROAKNzf"
      },
      "source": [
        "yor1()"
      ],
      "execution_count": null,
      "outputs": [
        {
          "output_type": "execute_result",
          "data": {
            "text/plain": [
              "(False, -11.648626374933459, -1.6448536269514729)"
            ]
          },
          "metadata": {},
          "execution_count": 46
        }
      ]
    },
    {
      "cell_type": "code",
      "source": [
        "from scipy import stats\n",
        "from statsmodels.stats import weightstats as stests\n",
        "import statsmodels.api as sm\n",
        "from scipy.stats import chi2_contingency\n",
        "from statsmodels.stats.weightstats import ztest\n",
        "def ZTest(x1,value):\n",
        "\n",
        "    z_value , p_value = ztest(x1 = x1,value =value )\n",
        "    \n",
        "    print('Z-score is :{}\\n'.format(z_value))\n",
        "    print('P-value is :{:.7f}\\n'.format(p_value))\n",
        "    \n",
        "    if p_value<0.05:\n",
        "      print('Null Hypothesis Rejected\\n')\n",
        "    else:\n",
        "      print('Null Hypothesis is not Rejected\\n')"
      ],
      "metadata": {
        "id": "mgOWwsNLP-XM"
      },
      "execution_count": null,
      "outputs": []
    },
    {
      "cell_type": "code",
      "source": [
        "ZTest(t12['Rating'],t2['Rating'].mean())"
      ],
      "metadata": {
        "colab": {
          "base_uri": "https://localhost:8080/"
        },
        "id": "N4YqMEShQCD2",
        "outputId": "dfafd720-f0c9-4272-db7d-745973e4346f"
      },
      "execution_count": null,
      "outputs": [
        {
          "output_type": "stream",
          "name": "stdout",
          "text": [
            "Z-score is :-11.001543640086936\n",
            "\n",
            "P-value is :0.0000000\n",
            "\n",
            "Null Hypothesis Rejected\n",
            "\n"
          ]
        }
      ]
    },
    {
      "cell_type": "markdown",
      "metadata": {
        "id": "x73-rU-SMwh8"
      },
      "source": [
        "Here we can infer that our null hypothesis is not standing as the later 20's movies are having much higher ratings compared to the early 20's"
      ]
    },
    {
      "cell_type": "markdown",
      "metadata": {
        "id": "ksr1FmwAneZM"
      },
      "source": [
        "**To compare good film with bad based on their standard deviation**"
      ]
    },
    {
      "cell_type": "code",
      "metadata": {
        "colab": {
          "base_uri": "https://localhost:8080/",
          "height": 708
        },
        "id": "cGxAngTsfF9E",
        "outputId": "4aae627e-79fe-4f6b-b2d1-3b321aa7f18a"
      },
      "source": [
        "good=rate[(rate.Rating)>=4]\n",
        "good"
      ],
      "execution_count": null,
      "outputs": [
        {
          "output_type": "execute_result",
          "data": {
            "text/html": [
              "<div>\n",
              "<style scoped>\n",
              "    .dataframe tbody tr th:only-of-type {\n",
              "        vertical-align: middle;\n",
              "    }\n",
              "\n",
              "    .dataframe tbody tr th {\n",
              "        vertical-align: top;\n",
              "    }\n",
              "\n",
              "    .dataframe thead th {\n",
              "        text-align: right;\n",
              "    }\n",
              "</style>\n",
              "<table border=\"1\" class=\"dataframe\">\n",
              "  <thead>\n",
              "    <tr style=\"text-align: right;\">\n",
              "      <th></th>\n",
              "      <th>Name</th>\n",
              "      <th>Rating</th>\n",
              "    </tr>\n",
              "  </thead>\n",
              "  <tbody>\n",
              "    <tr>\n",
              "      <th>2</th>\n",
              "      <td>Avengers: Endgame</td>\n",
              "      <td>7.996951</td>\n",
              "    </tr>\n",
              "    <tr>\n",
              "      <th>3</th>\n",
              "      <td>Avengers: Infinity War</td>\n",
              "      <td>8.175673</td>\n",
              "    </tr>\n",
              "    <tr>\n",
              "      <th>9</th>\n",
              "      <td>Bratz</td>\n",
              "      <td>5.076923</td>\n",
              "    </tr>\n",
              "    <tr>\n",
              "      <th>11</th>\n",
              "      <td>Cats</td>\n",
              "      <td>4.728496</td>\n",
              "    </tr>\n",
              "    <tr>\n",
              "      <th>13</th>\n",
              "      <td>Dabangg 3</td>\n",
              "      <td>4.577570</td>\n",
              "    </tr>\n",
              "    <tr>\n",
              "      <th>19</th>\n",
              "      <td>Far Cry</td>\n",
              "      <td>4.370787</td>\n",
              "    </tr>\n",
              "    <tr>\n",
              "      <th>21</th>\n",
              "      <td>From Justin to Kelly</td>\n",
              "      <td>4.195312</td>\n",
              "    </tr>\n",
              "    <tr>\n",
              "      <th>23</th>\n",
              "      <td>Glitter</td>\n",
              "      <td>5.407843</td>\n",
              "    </tr>\n",
              "    <tr>\n",
              "      <th>24</th>\n",
              "      <td>Godzilla vs. Kong</td>\n",
              "      <td>6.955034</td>\n",
              "    </tr>\n",
              "    <tr>\n",
              "      <th>30</th>\n",
              "      <td>Iron Man 3</td>\n",
              "      <td>6.145137</td>\n",
              "    </tr>\n",
              "    <tr>\n",
              "      <th>32</th>\n",
              "      <td>Kazaam</td>\n",
              "      <td>4.465116</td>\n",
              "    </tr>\n",
              "    <tr>\n",
              "      <th>41</th>\n",
              "      <td>Santa Claus Conquers the Martians</td>\n",
              "      <td>4.350962</td>\n",
              "    </tr>\n",
              "    <tr>\n",
              "      <th>44</th>\n",
              "      <td>Spider-Man</td>\n",
              "      <td>7.788781</td>\n",
              "    </tr>\n",
              "    <tr>\n",
              "      <th>45</th>\n",
              "      <td>Steel</td>\n",
              "      <td>4.927273</td>\n",
              "    </tr>\n",
              "    <tr>\n",
              "      <th>47</th>\n",
              "      <td>Superbabies: Baby Geniuses 2</td>\n",
              "      <td>4.416000</td>\n",
              "    </tr>\n",
              "    <tr>\n",
              "      <th>49</th>\n",
              "      <td>The Avengers</td>\n",
              "      <td>7.848329</td>\n",
              "    </tr>\n",
              "    <tr>\n",
              "      <th>50</th>\n",
              "      <td>The Hottie &amp; the Nottie</td>\n",
              "      <td>4.208333</td>\n",
              "    </tr>\n",
              "    <tr>\n",
              "      <th>52</th>\n",
              "      <td>The Oogieloves in the Big Balloon Adventure</td>\n",
              "      <td>4.352941</td>\n",
              "    </tr>\n",
              "    <tr>\n",
              "      <th>53</th>\n",
              "      <td>Titanic</td>\n",
              "      <td>7.387369</td>\n",
              "    </tr>\n",
              "    <tr>\n",
              "      <th>56</th>\n",
              "      <td>Who's Your Caddy?</td>\n",
              "      <td>4.346154</td>\n",
              "    </tr>\n",
              "    <tr>\n",
              "      <th>57</th>\n",
              "      <td>X-Men: Days of Future Past</td>\n",
              "      <td>8.137019</td>\n",
              "    </tr>\n",
              "  </tbody>\n",
              "</table>\n",
              "</div>"
            ],
            "text/plain": [
              "                                           Name    Rating\n",
              "2                             Avengers: Endgame  7.996951\n",
              "3                        Avengers: Infinity War  8.175673\n",
              "9                                         Bratz  5.076923\n",
              "11                                         Cats  4.728496\n",
              "13                                    Dabangg 3  4.577570\n",
              "19                                      Far Cry  4.370787\n",
              "21                         From Justin to Kelly  4.195312\n",
              "23                                      Glitter  5.407843\n",
              "24                            Godzilla vs. Kong  6.955034\n",
              "30                                   Iron Man 3  6.145137\n",
              "32                                       Kazaam  4.465116\n",
              "41            Santa Claus Conquers the Martians  4.350962\n",
              "44                                   Spider-Man  7.788781\n",
              "45                                        Steel  4.927273\n",
              "47                 Superbabies: Baby Geniuses 2  4.416000\n",
              "49                                 The Avengers  7.848329\n",
              "50                      The Hottie & the Nottie  4.208333\n",
              "52  The Oogieloves in the Big Balloon Adventure  4.352941\n",
              "53                                      Titanic  7.387369\n",
              "56                            Who's Your Caddy?  4.346154\n",
              "57                   X-Men: Days of Future Past  8.137019"
            ]
          },
          "metadata": {},
          "execution_count": 75
        }
      ]
    },
    {
      "cell_type": "code",
      "metadata": {
        "colab": {
          "base_uri": "https://localhost:8080/",
          "height": 1000
        },
        "id": "B62HQxZXfGrM",
        "outputId": "eda4b15a-c53a-49a2-bc15-e7c8ae5a5288"
      },
      "source": [
        "bad=rate[(rate.Rating)<4]\n",
        "bad"
      ],
      "execution_count": null,
      "outputs": [
        {
          "output_type": "execute_result",
          "data": {
            "text/html": [
              "<div>\n",
              "<style scoped>\n",
              "    .dataframe tbody tr th:only-of-type {\n",
              "        vertical-align: middle;\n",
              "    }\n",
              "\n",
              "    .dataframe tbody tr th {\n",
              "        vertical-align: top;\n",
              "    }\n",
              "\n",
              "    .dataframe thead th {\n",
              "        text-align: right;\n",
              "    }\n",
              "</style>\n",
              "<table border=\"1\" class=\"dataframe\">\n",
              "  <thead>\n",
              "    <tr style=\"text-align: right;\">\n",
              "      <th></th>\n",
              "      <th>Name</th>\n",
              "      <th>Rating</th>\n",
              "    </tr>\n",
              "  </thead>\n",
              "  <tbody>\n",
              "    <tr>\n",
              "      <th>0</th>\n",
              "      <td>3 Ninjas: High Noon at Mega Mountain</td>\n",
              "      <td>3.915254</td>\n",
              "    </tr>\n",
              "    <tr>\n",
              "      <th>1</th>\n",
              "      <td>Alone in the Dark</td>\n",
              "      <td>2.528958</td>\n",
              "    </tr>\n",
              "    <tr>\n",
              "      <th>4</th>\n",
              "      <td>Baaghi 3</td>\n",
              "      <td>2.309829</td>\n",
              "    </tr>\n",
              "    <tr>\n",
              "      <th>5</th>\n",
              "      <td>Baby Geniuses</td>\n",
              "      <td>3.645161</td>\n",
              "    </tr>\n",
              "    <tr>\n",
              "      <th>6</th>\n",
              "      <td>Battlefield Earth</td>\n",
              "      <td>3.302235</td>\n",
              "    </tr>\n",
              "    <tr>\n",
              "      <th>7</th>\n",
              "      <td>Birdemic: Shock and Terror</td>\n",
              "      <td>3.546926</td>\n",
              "    </tr>\n",
              "    <tr>\n",
              "      <th>8</th>\n",
              "      <td>BloodRayne</td>\n",
              "      <td>3.271008</td>\n",
              "    </tr>\n",
              "    <tr>\n",
              "      <th>10</th>\n",
              "      <td>Breach</td>\n",
              "      <td>2.106944</td>\n",
              "    </tr>\n",
              "    <tr>\n",
              "      <th>12</th>\n",
              "      <td>Code Name: K.O.Z.</td>\n",
              "      <td>2.588235</td>\n",
              "    </tr>\n",
              "    <tr>\n",
              "      <th>14</th>\n",
              "      <td>Daniel the Wizard</td>\n",
              "      <td>2.733333</td>\n",
              "    </tr>\n",
              "    <tr>\n",
              "      <th>15</th>\n",
              "      <td>Date Movie</td>\n",
              "      <td>3.136667</td>\n",
              "    </tr>\n",
              "    <tr>\n",
              "      <th>16</th>\n",
              "      <td>Disaster Movie</td>\n",
              "      <td>2.622120</td>\n",
              "    </tr>\n",
              "    <tr>\n",
              "      <th>17</th>\n",
              "      <td>Dragonball Evolution</td>\n",
              "      <td>3.314530</td>\n",
              "    </tr>\n",
              "    <tr>\n",
              "      <th>18</th>\n",
              "      <td>Epic Movie</td>\n",
              "      <td>2.662261</td>\n",
              "    </tr>\n",
              "    <tr>\n",
              "      <th>20</th>\n",
              "      <td>Foodfight!</td>\n",
              "      <td>2.266667</td>\n",
              "    </tr>\n",
              "    <tr>\n",
              "      <th>22</th>\n",
              "      <td>Gigli</td>\n",
              "      <td>3.787791</td>\n",
              "    </tr>\n",
              "    <tr>\n",
              "      <th>25</th>\n",
              "      <td>Going Overboard</td>\n",
              "      <td>2.729730</td>\n",
              "    </tr>\n",
              "    <tr>\n",
              "      <th>26</th>\n",
              "      <td>Gully</td>\n",
              "      <td>2.480000</td>\n",
              "    </tr>\n",
              "    <tr>\n",
              "      <th>27</th>\n",
              "      <td>Gunday</td>\n",
              "      <td>1.560345</td>\n",
              "    </tr>\n",
              "    <tr>\n",
              "      <th>28</th>\n",
              "      <td>Hobgoblins</td>\n",
              "      <td>1.735484</td>\n",
              "    </tr>\n",
              "    <tr>\n",
              "      <th>29</th>\n",
              "      <td>House of the Dead</td>\n",
              "      <td>2.604124</td>\n",
              "    </tr>\n",
              "    <tr>\n",
              "      <th>31</th>\n",
              "      <td>Jaws: The Revenge</td>\n",
              "      <td>3.026525</td>\n",
              "    </tr>\n",
              "    <tr>\n",
              "      <th>33</th>\n",
              "      <td>Kirk Cameron's Saving Christmas</td>\n",
              "      <td>3.269663</td>\n",
              "    </tr>\n",
              "    <tr>\n",
              "      <th>34</th>\n",
              "      <td>Laxmii</td>\n",
              "      <td>1.799874</td>\n",
              "    </tr>\n",
              "    <tr>\n",
              "      <th>35</th>\n",
              "      <td>Manos: The Hands of Fate</td>\n",
              "      <td>2.073504</td>\n",
              "    </tr>\n",
              "    <tr>\n",
              "      <th>36</th>\n",
              "      <td>Meet the Spartans</td>\n",
              "      <td>3.392435</td>\n",
              "    </tr>\n",
              "    <tr>\n",
              "      <th>37</th>\n",
              "      <td>Pledge This!</td>\n",
              "      <td>2.447059</td>\n",
              "    </tr>\n",
              "    <tr>\n",
              "      <th>38</th>\n",
              "      <td>Race 3</td>\n",
              "      <td>2.752735</td>\n",
              "    </tr>\n",
              "    <tr>\n",
              "      <th>39</th>\n",
              "      <td>Radhe</td>\n",
              "      <td>3.698942</td>\n",
              "    </tr>\n",
              "    <tr>\n",
              "      <th>40</th>\n",
              "      <td>Rollerball</td>\n",
              "      <td>3.135135</td>\n",
              "    </tr>\n",
              "    <tr>\n",
              "      <th>42</th>\n",
              "      <td>Smolensk</td>\n",
              "      <td>1.336667</td>\n",
              "    </tr>\n",
              "    <tr>\n",
              "      <th>43</th>\n",
              "      <td>Son of the Mask</td>\n",
              "      <td>3.042802</td>\n",
              "    </tr>\n",
              "    <tr>\n",
              "      <th>46</th>\n",
              "      <td>Student of the Year 2</td>\n",
              "      <td>2.538226</td>\n",
              "    </tr>\n",
              "    <tr>\n",
              "      <th>48</th>\n",
              "      <td>Tees Maar Khan</td>\n",
              "      <td>2.626087</td>\n",
              "    </tr>\n",
              "    <tr>\n",
              "      <th>51</th>\n",
              "      <td>The Human Centipede III (Final Sequence)</td>\n",
              "      <td>3.409722</td>\n",
              "    </tr>\n",
              "    <tr>\n",
              "      <th>54</th>\n",
              "      <td>Troll 2</td>\n",
              "      <td>3.584507</td>\n",
              "    </tr>\n",
              "    <tr>\n",
              "      <th>55</th>\n",
              "      <td>Turks in Space</td>\n",
              "      <td>3.315789</td>\n",
              "    </tr>\n",
              "  </tbody>\n",
              "</table>\n",
              "</div>"
            ],
            "text/plain": [
              "                                        Name    Rating\n",
              "0       3 Ninjas: High Noon at Mega Mountain  3.915254\n",
              "1                          Alone in the Dark  2.528958\n",
              "4                                   Baaghi 3  2.309829\n",
              "5                              Baby Geniuses  3.645161\n",
              "6                          Battlefield Earth  3.302235\n",
              "7                 Birdemic: Shock and Terror  3.546926\n",
              "8                                 BloodRayne  3.271008\n",
              "10                                    Breach  2.106944\n",
              "12                         Code Name: K.O.Z.  2.588235\n",
              "14                         Daniel the Wizard  2.733333\n",
              "15                                Date Movie  3.136667\n",
              "16                            Disaster Movie  2.622120\n",
              "17                      Dragonball Evolution  3.314530\n",
              "18                                Epic Movie  2.662261\n",
              "20                                Foodfight!  2.266667\n",
              "22                                     Gigli  3.787791\n",
              "25                           Going Overboard  2.729730\n",
              "26                                     Gully  2.480000\n",
              "27                                    Gunday  1.560345\n",
              "28                                Hobgoblins  1.735484\n",
              "29                         House of the Dead  2.604124\n",
              "31                         Jaws: The Revenge  3.026525\n",
              "33           Kirk Cameron's Saving Christmas  3.269663\n",
              "34                                    Laxmii  1.799874\n",
              "35                  Manos: The Hands of Fate  2.073504\n",
              "36                         Meet the Spartans  3.392435\n",
              "37                              Pledge This!  2.447059\n",
              "38                                    Race 3  2.752735\n",
              "39                                     Radhe  3.698942\n",
              "40                                Rollerball  3.135135\n",
              "42                                  Smolensk  1.336667\n",
              "43                           Son of the Mask  3.042802\n",
              "46                     Student of the Year 2  2.538226\n",
              "48                            Tees Maar Khan  2.626087\n",
              "51  The Human Centipede III (Final Sequence)  3.409722\n",
              "54                                   Troll 2  3.584507\n",
              "55                            Turks in Space  3.315789"
            ]
          },
          "metadata": {},
          "execution_count": 76
        }
      ]
    },
    {
      "cell_type": "code",
      "metadata": {
        "colab": {
          "base_uri": "https://localhost:8080/"
        },
        "id": "ImLWC_YWhSp9",
        "outputId": "7c017567-bd5b-4a44-bb81-43a518d8e647"
      },
      "source": [
        "good.shape"
      ],
      "execution_count": null,
      "outputs": [
        {
          "output_type": "execute_result",
          "data": {
            "text/plain": [
              "(21, 2)"
            ]
          },
          "metadata": {},
          "execution_count": 77
        }
      ]
    },
    {
      "cell_type": "code",
      "metadata": {
        "colab": {
          "base_uri": "https://localhost:8080/"
        },
        "id": "4bkA76vHhW2Z",
        "outputId": "9660b466-d9cd-4ac6-90cc-35a3e39c5cea"
      },
      "source": [
        "bad.shape"
      ],
      "execution_count": null,
      "outputs": [
        {
          "output_type": "execute_result",
          "data": {
            "text/plain": [
              "(37, 2)"
            ]
          },
          "metadata": {},
          "execution_count": 78
        }
      ]
    },
    {
      "cell_type": "code",
      "metadata": {
        "colab": {
          "base_uri": "https://localhost:8080/"
        },
        "id": "NXXNasnchHls",
        "outputId": "991724d6-6b73-4bb5-aae4-aa25b29b9795"
      },
      "source": [
        "good.std().mean()"
      ],
      "execution_count": null,
      "outputs": [
        {
          "output_type": "execute_result",
          "data": {
            "text/plain": [
              "1.567049628778525"
            ]
          },
          "metadata": {},
          "execution_count": 79
        }
      ]
    },
    {
      "cell_type": "code",
      "metadata": {
        "colab": {
          "base_uri": "https://localhost:8080/"
        },
        "id": "h1U10AWUhQfB",
        "outputId": "77ce73c9-f9af-48e1-9c86-07cb9023ff42"
      },
      "source": [
        "bad.std().mean()"
      ],
      "execution_count": null,
      "outputs": [
        {
          "output_type": "execute_result",
          "data": {
            "text/plain": [
              "0.6471144954568712"
            ]
          },
          "metadata": {},
          "execution_count": 80
        }
      ]
    },
    {
      "cell_type": "markdown",
      "metadata": {
        "id": "IiV7GmzHnugz"
      },
      "source": [
        "**Taking sample of 10 from bad movies**"
      ]
    },
    {
      "cell_type": "code",
      "metadata": {
        "colab": {
          "base_uri": "https://localhost:8080/",
          "height": 362
        },
        "id": "z7QZvRH1hngz",
        "outputId": "305f3fe0-dca0-41cb-8186-45ee7a64a560"
      },
      "source": [
        "b_sample=bad.sample(10)\n",
        "b_sample"
      ],
      "execution_count": null,
      "outputs": [
        {
          "output_type": "execute_result",
          "data": {
            "text/html": [
              "<div>\n",
              "<style scoped>\n",
              "    .dataframe tbody tr th:only-of-type {\n",
              "        vertical-align: middle;\n",
              "    }\n",
              "\n",
              "    .dataframe tbody tr th {\n",
              "        vertical-align: top;\n",
              "    }\n",
              "\n",
              "    .dataframe thead th {\n",
              "        text-align: right;\n",
              "    }\n",
              "</style>\n",
              "<table border=\"1\" class=\"dataframe\">\n",
              "  <thead>\n",
              "    <tr style=\"text-align: right;\">\n",
              "      <th></th>\n",
              "      <th>Name</th>\n",
              "      <th>Rating</th>\n",
              "    </tr>\n",
              "  </thead>\n",
              "  <tbody>\n",
              "    <tr>\n",
              "      <th>40</th>\n",
              "      <td>Rollerball</td>\n",
              "      <td>3.135135</td>\n",
              "    </tr>\n",
              "    <tr>\n",
              "      <th>18</th>\n",
              "      <td>Epic Movie</td>\n",
              "      <td>2.662261</td>\n",
              "    </tr>\n",
              "    <tr>\n",
              "      <th>14</th>\n",
              "      <td>Daniel the Wizard</td>\n",
              "      <td>2.733333</td>\n",
              "    </tr>\n",
              "    <tr>\n",
              "      <th>33</th>\n",
              "      <td>Kirk Cameron's Saving Christmas</td>\n",
              "      <td>3.269663</td>\n",
              "    </tr>\n",
              "    <tr>\n",
              "      <th>48</th>\n",
              "      <td>Tees Maar Khan</td>\n",
              "      <td>2.626087</td>\n",
              "    </tr>\n",
              "    <tr>\n",
              "      <th>51</th>\n",
              "      <td>The Human Centipede III (Final Sequence)</td>\n",
              "      <td>3.409722</td>\n",
              "    </tr>\n",
              "    <tr>\n",
              "      <th>20</th>\n",
              "      <td>Foodfight!</td>\n",
              "      <td>2.266667</td>\n",
              "    </tr>\n",
              "    <tr>\n",
              "      <th>42</th>\n",
              "      <td>Smolensk</td>\n",
              "      <td>1.336667</td>\n",
              "    </tr>\n",
              "    <tr>\n",
              "      <th>7</th>\n",
              "      <td>Birdemic: Shock and Terror</td>\n",
              "      <td>3.546926</td>\n",
              "    </tr>\n",
              "    <tr>\n",
              "      <th>1</th>\n",
              "      <td>Alone in the Dark</td>\n",
              "      <td>2.528958</td>\n",
              "    </tr>\n",
              "  </tbody>\n",
              "</table>\n",
              "</div>"
            ],
            "text/plain": [
              "                                        Name    Rating\n",
              "40                                Rollerball  3.135135\n",
              "18                                Epic Movie  2.662261\n",
              "14                         Daniel the Wizard  2.733333\n",
              "33           Kirk Cameron's Saving Christmas  3.269663\n",
              "48                            Tees Maar Khan  2.626087\n",
              "51  The Human Centipede III (Final Sequence)  3.409722\n",
              "20                                Foodfight!  2.266667\n",
              "42                                  Smolensk  1.336667\n",
              "7                 Birdemic: Shock and Terror  3.546926\n",
              "1                          Alone in the Dark  2.528958"
            ]
          },
          "metadata": {},
          "execution_count": 81
        }
      ]
    },
    {
      "cell_type": "code",
      "metadata": {
        "colab": {
          "base_uri": "https://localhost:8080/"
        },
        "id": "3sYkHGyLikvg",
        "outputId": "1a90b513-64ed-414b-f9e1-c7c19b0ba8b7"
      },
      "source": [
        "b_sample.std().mean()"
      ],
      "execution_count": null,
      "outputs": [
        {
          "output_type": "execute_result",
          "data": {
            "text/plain": [
              "0.6491011650325672"
            ]
          },
          "metadata": {},
          "execution_count": 82
        }
      ]
    },
    {
      "cell_type": "code",
      "metadata": {
        "colab": {
          "base_uri": "https://localhost:8080/"
        },
        "id": "387eAhfjlpBI",
        "outputId": "b598eb00-2897-4afe-f4ae-d9a5bdeefe73"
      },
      "source": [
        "good.std()"
      ],
      "execution_count": null,
      "outputs": [
        {
          "output_type": "execute_result",
          "data": {
            "text/plain": [
              "Rating    1.56705\n",
              "dtype: float64"
            ]
          },
          "metadata": {},
          "execution_count": 83
        }
      ]
    },
    {
      "cell_type": "code",
      "metadata": {
        "colab": {
          "base_uri": "https://localhost:8080/"
        },
        "id": "w8RSEvBXpH7q",
        "outputId": "60554132-6543-41ff-cf04-e542fbd1f1b3"
      },
      "source": [
        "b_sample.std()"
      ],
      "execution_count": null,
      "outputs": [
        {
          "output_type": "execute_result",
          "data": {
            "text/plain": [
              "Rating    0.649101\n",
              "dtype: float64"
            ]
          },
          "metadata": {},
          "execution_count": 84
        }
      ]
    },
    {
      "cell_type": "markdown",
      "metadata": {
        "id": "OnLpKqBTo0x7"
      },
      "source": [
        "**Chi-Square**"
      ]
    },
    {
      "cell_type": "code",
      "metadata": {
        "id": "H4iFBKphmq6h"
      },
      "source": [
        "import numpy as np\n",
        "from scipy.stats import norm\n",
        "import scipy.stats\n",
        "from math import sqrt"
      ],
      "execution_count": null,
      "outputs": []
    },
    {
      "cell_type": "code",
      "metadata": {
        "id": "K8ovFv1fo3Ws"
      },
      "source": [
        "def chi_square():\n",
        "\n",
        "    # H1.56 ; H1:sigma!=1.56 H0:sigma=(std deviation of good movies) (Two-tailed)\n",
        "    \n",
        "    n = 10\n",
        "    degrees_of_freedom = 9\n",
        "    s = 0.64\n",
        "    sigma = 1.56\n",
        "    alpha = 0.01\n",
        "  \n",
        "    chi_square=((n-1)*(s ** 2))/(sigma ** 2)\n",
        "    critical=scipy.stats.chi2.ppf(1-0.01,df=9)\n",
        "    if(critical > alpha): \n",
        "        rejection = False \n",
        "    else:\n",
        "        rejection = True\n",
        "        \n",
        "    return rejection, chi_square, critical"
      ],
      "execution_count": null,
      "outputs": []
    },
    {
      "cell_type": "code",
      "metadata": {
        "colab": {
          "base_uri": "https://localhost:8080/"
        },
        "id": "D59MtGCip4Ky",
        "outputId": "93fe96be-b9b2-44eb-d5a8-a5b5bee33d2b"
      },
      "source": [
        "chi_square()"
      ],
      "execution_count": null,
      "outputs": [
        {
          "output_type": "execute_result",
          "data": {
            "text/plain": [
              "(False, 1.514792899408284, 21.665994333461924)"
            ]
          },
          "metadata": {},
          "execution_count": 96
        }
      ]
    },
    {
      "cell_type": "markdown",
      "metadata": {
        "id": "lrdCcmD2pQ3y"
      },
      "source": [
        "**INFERENCE:**   \n",
        "\n",
        "**Here, we can infer that our null hypothesis is standing by having higher standard deviation for good film compared to the bad film** "
      ]
    },
    {
      "cell_type": "markdown",
      "metadata": {
        "id": "HJIE9xCno5iT"
      },
      "source": [
        "**To compare positive movies with bad based on their length of the comments**"
      ]
    },
    {
      "cell_type": "code",
      "metadata": {
        "id": "kdzrnhfnBTw8"
      },
      "source": [
        "df_pos=df[(df.Tone==1)]"
      ],
      "execution_count": null,
      "outputs": []
    },
    {
      "cell_type": "code",
      "metadata": {
        "id": "4lBu91arIUct"
      },
      "source": [
        "df_neg=df[(df.Tone==0)]"
      ],
      "execution_count": null,
      "outputs": []
    },
    {
      "cell_type": "code",
      "metadata": {
        "colab": {
          "base_uri": "https://localhost:8080/"
        },
        "id": "Pb17PT5HIiWC",
        "outputId": "b2f7ee27-7747-456b-c244-4af3c8ff40cf"
      },
      "source": [
        "df_pos.std().mean()"
      ],
      "execution_count": null,
      "outputs": [
        {
          "output_type": "execute_result",
          "data": {
            "text/plain": [
              "0.6711322019631337"
            ]
          },
          "metadata": {},
          "execution_count": 72
        }
      ]
    },
    {
      "cell_type": "code",
      "metadata": {
        "colab": {
          "base_uri": "https://localhost:8080/"
        },
        "id": "SfG7h2obIoXi",
        "outputId": "d78dcee0-add3-4270-deb6-cca9c3d32537"
      },
      "source": [
        "df_neg.std().mean()"
      ],
      "execution_count": null,
      "outputs": [
        {
          "output_type": "execute_result",
          "data": {
            "text/plain": [
              "0.627535215418371"
            ]
          },
          "metadata": {},
          "execution_count": 73
        }
      ]
    },
    {
      "cell_type": "markdown",
      "metadata": {
        "id": "GkFtws3MqhBj"
      },
      "source": [
        "**Taking sample of *25* from negative movies**"
      ]
    },
    {
      "cell_type": "code",
      "metadata": {
        "id": "0Uj5IN8LhZcm"
      },
      "source": [
        "df_neg_sample=df_neg.sample(25)"
      ],
      "execution_count": null,
      "outputs": []
    },
    {
      "cell_type": "code",
      "metadata": {
        "id": "VepbC9o1bDDC"
      },
      "source": [
        "df_comment_len=df_pos['Comment'].str.len()"
      ],
      "execution_count": null,
      "outputs": []
    },
    {
      "cell_type": "code",
      "metadata": {
        "colab": {
          "base_uri": "https://localhost:8080/"
        },
        "id": "CGHitWgRbcgH",
        "outputId": "e54234e6-d1b5-4b9b-a508-e4f8009376c7"
      },
      "source": [
        "df_comment_len.mean()"
      ],
      "execution_count": null,
      "outputs": [
        {
          "output_type": "execute_result",
          "data": {
            "text/plain": [
              "880.1144938210983"
            ]
          },
          "metadata": {},
          "execution_count": 92
        }
      ]
    },
    {
      "cell_type": "code",
      "metadata": {
        "id": "e9cq3d84bh38"
      },
      "source": [
        "df_comment_len1=df_neg_sample['Comment'].str.len()"
      ],
      "execution_count": null,
      "outputs": []
    },
    {
      "cell_type": "code",
      "metadata": {
        "colab": {
          "base_uri": "https://localhost:8080/"
        },
        "id": "LdgKsN7RbpNO",
        "outputId": "cf890520-5924-4cb4-b15b-97b746cd771c"
      },
      "source": [
        "df_comment_len1.mean()"
      ],
      "execution_count": null,
      "outputs": [
        {
          "output_type": "execute_result",
          "data": {
            "text/plain": [
              "748.8"
            ]
          },
          "metadata": {},
          "execution_count": 106
        }
      ]
    },
    {
      "cell_type": "code",
      "metadata": {
        "colab": {
          "base_uri": "https://localhost:8080/"
        },
        "id": "zicZ33LZiQyO",
        "outputId": "25dec1af-1b6a-4f65-8606-182315eb7176"
      },
      "source": [
        "df_comment_len1.std()"
      ],
      "execution_count": null,
      "outputs": [
        {
          "output_type": "execute_result",
          "data": {
            "text/plain": [
              "1006.008159343982"
            ]
          },
          "metadata": {},
          "execution_count": 107
        }
      ]
    },
    {
      "cell_type": "markdown",
      "metadata": {
        "id": "cXSoaMW9qoyd"
      },
      "source": [
        "**T-test using P-value**"
      ]
    },
    {
      "cell_type": "code",
      "metadata": {
        "id": "bBnhPugUe7CW"
      },
      "source": [
        "def t_test():\n",
        "    # H0: mu>=880.11 ; Ha: mu<880.11 (right-tailed)\n",
        "    \n",
        "    n = 25\n",
        "    xbar = 748.8\n",
        "    mu = 880.11\n",
        "    sigma = 1006\n",
        "    alpha = 0.05\n",
        "    \n",
        "    t = (xbar-mu)/(sigma/np.sqrt(n))\n",
        "    p = scipy.stats.norm.sf(abs(t),n-1)*2\n",
        "    \n",
        "    if(p > alpha): \n",
        "        rejection = False \n",
        "    else:\n",
        "        rejection = True\n",
        "        \n",
        "    return rejection,t,p"
      ],
      "execution_count": null,
      "outputs": []
    },
    {
      "cell_type": "code",
      "metadata": {
        "colab": {
          "base_uri": "https://localhost:8080/"
        },
        "id": "G_oAy2yGiutE",
        "outputId": "a5c0f65e-5f84-487e-ad2f-5b4dc2235ac8"
      },
      "source": [
        "t_test()"
      ],
      "execution_count": null,
      "outputs": [
        {
          "output_type": "execute_result",
          "data": {
            "text/plain": [
              "(False, -0.6526341948310143, 0.513992135219874)"
            ]
          },
          "metadata": {},
          "execution_count": 123
        }
      ]
    },
    {
      "cell_type": "markdown",
      "metadata": {
        "id": "zjWQwMvxqt7r"
      },
      "source": [
        "**INFERENCE:**   \n",
        "\n",
        "**Here, we can infer that our null hypothesis is standing by having higher length of comments for good film compared to the bad film** "
      ]
    },
    {
      "cell_type": "markdown",
      "metadata": {
        "id": "QT8jy3_OZJbk"
      },
      "source": [
        "#Training and Comparison of Models:"
      ]
    },
    {
      "cell_type": "code",
      "source": [
        "X = df['Comment']\n",
        "y = df['Tone']\n",
        "X_train, X_test, y_train, y_test = train_test_split(X, y, test_size=0.2, random_state=77)"
      ],
      "metadata": {
        "id": "xUYLeUPPPSu_"
      },
      "execution_count": null,
      "outputs": []
    },
    {
      "cell_type": "markdown",
      "source": [
        "# **Logistic Regression:**"
      ],
      "metadata": {
        "id": "RU4eUF-VSoiT"
      }
    },
    {
      "cell_type": "markdown",
      "metadata": {
        "id": "LeCv-As0YRnu"
      },
      "source": [
        "**Without Feature Engineering**"
      ]
    },
    {
      "cell_type": "code",
      "metadata": {
        "colab": {
          "base_uri": "https://localhost:8080/"
        },
        "outputId": "4cdf0874-9431-4ae3-9c50-5d8e8c328aa4",
        "id": "C6AXnxn2_NQh"
      },
      "source": [
        "# Logistic regression without feature engineering\n",
        "\n",
        "linear_regression_classifier = LogisticRegression(solver='lbfgs', max_iter=100000)\n",
        "LRmodel = Pipeline([(\"cleaner\", predictors()),\n",
        "                 ('vectorizer', vectorizer_no_fe),\n",
        "                 ('classifier', linear_regression_classifier)])\n",
        "\n",
        "# Train the Model using Logistic regression\n",
        "LRmodel.fit(X_train,y_train)   \n",
        "LRpred = LRmodel.predict(X_test)\n",
        "print(f'Confusion Matrix:\\n{confusion_matrix(y_test,LRpred)}')\n",
        "print(f'\\nClassification Report:\\n{classification_report(y_test,LRpred)}')\n",
        "print(f'Accuracy: {accuracy_score(y_test,LRpred)*100}%')"
      ],
      "execution_count": null,
      "outputs": [
        {
          "output_type": "stream",
          "name": "stdout",
          "text": [
            "Confusion Matrix:\n",
            "[[4711    0]\n",
            " [4864    0]]\n",
            "\n",
            "Classification Report:\n",
            "              precision    recall  f1-score   support\n",
            "\n",
            "           0       0.49      1.00      0.66      4711\n",
            "           1       0.00      0.00      0.00      4864\n",
            "\n",
            "    accuracy                           0.49      9575\n",
            "   macro avg       0.25      0.50      0.33      9575\n",
            "weighted avg       0.24      0.49      0.32      9575\n",
            "\n",
            "Accuracy: 49.20104438642298%\n"
          ]
        },
        {
          "output_type": "stream",
          "name": "stderr",
          "text": [
            "/usr/local/lib/python3.7/dist-packages/sklearn/metrics/_classification.py:1308: UndefinedMetricWarning: Precision and F-score are ill-defined and being set to 0.0 in labels with no predicted samples. Use `zero_division` parameter to control this behavior.\n",
            "  _warn_prf(average, modifier, msg_start, len(result))\n",
            "/usr/local/lib/python3.7/dist-packages/sklearn/metrics/_classification.py:1308: UndefinedMetricWarning: Precision and F-score are ill-defined and being set to 0.0 in labels with no predicted samples. Use `zero_division` parameter to control this behavior.\n",
            "  _warn_prf(average, modifier, msg_start, len(result))\n",
            "/usr/local/lib/python3.7/dist-packages/sklearn/metrics/_classification.py:1308: UndefinedMetricWarning: Precision and F-score are ill-defined and being set to 0.0 in labels with no predicted samples. Use `zero_division` parameter to control this behavior.\n",
            "  _warn_prf(average, modifier, msg_start, len(result))\n"
          ]
        }
      ]
    },
    {
      "cell_type": "code",
      "source": [
        "!pip install scikit-plot"
      ],
      "metadata": {
        "colab": {
          "base_uri": "https://localhost:8080/"
        },
        "id": "9mS0b2erNj4b",
        "outputId": "47986323-dde9-4c66-8b4c-1a53a9c29bb5"
      },
      "execution_count": null,
      "outputs": [
        {
          "output_type": "stream",
          "name": "stdout",
          "text": [
            "Collecting scikit-plot\n",
            "  Downloading scikit_plot-0.3.7-py3-none-any.whl (33 kB)\n",
            "Requirement already satisfied: scipy>=0.9 in /usr/local/lib/python3.7/dist-packages (from scikit-plot) (1.4.1)\n",
            "Requirement already satisfied: matplotlib>=1.4.0 in /usr/local/lib/python3.7/dist-packages (from scikit-plot) (3.2.2)\n",
            "Requirement already satisfied: joblib>=0.10 in /usr/local/lib/python3.7/dist-packages (from scikit-plot) (1.1.0)\n",
            "Requirement already satisfied: scikit-learn>=0.18 in /usr/local/lib/python3.7/dist-packages (from scikit-plot) (1.0.1)\n",
            "Requirement already satisfied: kiwisolver>=1.0.1 in /usr/local/lib/python3.7/dist-packages (from matplotlib>=1.4.0->scikit-plot) (1.3.2)\n",
            "Requirement already satisfied: python-dateutil>=2.1 in /usr/local/lib/python3.7/dist-packages (from matplotlib>=1.4.0->scikit-plot) (2.8.2)\n",
            "Requirement already satisfied: pyparsing!=2.0.4,!=2.1.2,!=2.1.6,>=2.0.1 in /usr/local/lib/python3.7/dist-packages (from matplotlib>=1.4.0->scikit-plot) (3.0.6)\n",
            "Requirement already satisfied: cycler>=0.10 in /usr/local/lib/python3.7/dist-packages (from matplotlib>=1.4.0->scikit-plot) (0.11.0)\n",
            "Requirement already satisfied: numpy>=1.11 in /usr/local/lib/python3.7/dist-packages (from matplotlib>=1.4.0->scikit-plot) (1.19.5)\n",
            "Requirement already satisfied: six>=1.5 in /usr/local/lib/python3.7/dist-packages (from python-dateutil>=2.1->matplotlib>=1.4.0->scikit-plot) (1.15.0)\n",
            "Requirement already satisfied: threadpoolctl>=2.0.0 in /usr/local/lib/python3.7/dist-packages (from scikit-learn>=0.18->scikit-plot) (3.0.0)\n",
            "Installing collected packages: scikit-plot\n",
            "Successfully installed scikit-plot-0.3.7\n"
          ]
        }
      ]
    },
    {
      "cell_type": "markdown",
      "source": [
        "**With Feature Engineering**"
      ],
      "metadata": {
        "id": "f9Mg9TbuTG55"
      }
    },
    {
      "cell_type": "code",
      "metadata": {
        "id": "egCtdJyJVTWS"
      },
      "source": [
        "# Logistic regression with feature engineering\n",
        "import scikitplot as skplt\n",
        "from sklearn.metrics import r2_score\n",
        "from sklearn import metrics\n",
        "import matplotlib.pyplot as plt\n",
        "linear_regression_classifier = LogisticRegression(solver='lbfgs', max_iter=100000)\n",
        "LRmodel = Pipeline([(\"cleaner\", predictors()),\n",
        "                 ('vectorizer', tfvectorizer),\n",
        "                 ('classifier', linear_regression_classifier)])\n",
        "\n",
        "LRmodel.fit(X_train,y_train)   \n",
        "LRpred = LRmodel.predict(X_test)"
      ],
      "execution_count": null,
      "outputs": []
    },
    {
      "cell_type": "code",
      "source": [
        "print(f'Confusion Matrix:\\n{confusion_matrix(y_test,LRpred)}')\n",
        "print(f'\\nClassification Report:\\n{classification_report(y_test,LRpred)}')\n",
        "print(f'Accuracy: {accuracy_score(y_test,LRpred)*100}%')\n",
        "fpr, tpr, _ = metrics.roc_curve(y_test,LRpred)\n",
        "auc = metrics.roc_auc_score(y_test,LRpred)\n",
        "plt.plot(fpr,tpr,label=\"data 1, auc=\"+str(auc))\n",
        "plt.legend(loc=4)\n",
        "plt.show()"
      ],
      "metadata": {
        "colab": {
          "base_uri": "https://localhost:8080/",
          "height": 525
        },
        "id": "ZJ6TF0_hbWoB",
        "outputId": "353f3050-7f74-4b75-ab4e-4c403c959cea"
      },
      "execution_count": null,
      "outputs": [
        {
          "output_type": "stream",
          "name": "stdout",
          "text": [
            "Confusion Matrix:\n",
            "[[4136  575]\n",
            " [ 552 4312]]\n",
            "\n",
            "Classification Report:\n",
            "              precision    recall  f1-score   support\n",
            "\n",
            "           0       0.88      0.88      0.88      4711\n",
            "           1       0.88      0.89      0.88      4864\n",
            "\n",
            "    accuracy                           0.88      9575\n",
            "   macro avg       0.88      0.88      0.88      9575\n",
            "weighted avg       0.88      0.88      0.88      9575\n",
            "\n",
            "Accuracy: 88.22976501305483%\n"
          ]
        },
        {
          "output_type": "display_data",
          "data": {
            "image/png": "[encoded data removed]",
            "text/plain": [
              "<Figure size 432x288 with 1 Axes>"
            ]
          },
          "metadata": {
            "needs_background": "light"
          }
        }
      ]
    },
    {
      "cell_type": "markdown",
      "metadata": {
        "id": "4jE2lEpnYfHK"
      },
      "source": [
        "**Comparison with Other Models**"
      ]
    },
    {
      "cell_type": "markdown",
      "source": [
        "#**Decision Tree Classifier model:**"
      ],
      "metadata": {
        "id": "FL4Busc-GeBH"
      }
    },
    {
      "cell_type": "code",
      "metadata": {
        "id": "loYz6ZSNrY9v",
        "colab": {
          "base_uri": "https://localhost:8080/"
        },
        "outputId": "d3f03b98-c049-40ea-85c8-6c33fd88b739"
      },
      "source": [
        "from sklearn.tree import DecisionTreeClassifier\n",
        "DTclassifier = DecisionTreeClassifier()\n",
        "DTmodel = Pipeline([(\"cleaner\", predictors()),\n",
        "                 ('vectorizer', tfvectorizer),\n",
        "                 ('classifier', DTclassifier)])\n",
        "\n",
        "# Train the Model\n",
        "DTmodel.fit(X_train,y_train)   \n",
        "DTpred = DTmodel.predict(X_test)\n",
        "print(f'Confusion Matrix:\\n{confusion_matrix(y_test,DTpred)}')\n",
        "print(f'\\nClassification Report:\\n{classification_report(y_test,DTpred)}')\n",
        "print(f'Accuracy: {accuracy_score(y_test,DTpred)*100}%')"
      ],
      "execution_count": null,
      "outputs": [
        {
          "output_type": "stream",
          "name": "stdout",
          "text": [
            "Confusion Matrix:\n",
            "[[3567 1144]\n",
            " [ 979 3885]]\n",
            "\n",
            "Classification Report:\n",
            "              precision    recall  f1-score   support\n",
            "\n",
            "           0       0.78      0.76      0.77      4711\n",
            "           1       0.77      0.80      0.79      4864\n",
            "\n",
            "    accuracy                           0.78      9575\n",
            "   macro avg       0.78      0.78      0.78      9575\n",
            "weighted avg       0.78      0.78      0.78      9575\n",
            "\n",
            "Accuracy: 77.82767624020887%\n"
          ]
        }
      ]
    },
    {
      "cell_type": "markdown",
      "source": [
        "#**SVM Classifier model:**"
      ],
      "metadata": {
        "id": "qGamgMErTOZ5"
      }
    },
    {
      "cell_type": "code",
      "metadata": {
        "id": "WNKX-HK0tNMS",
        "colab": {
          "base_uri": "https://localhost:8080/"
        },
        "outputId": "7ac6bfa6-f62e-47d7-a99e-c63b5bf5e834"
      },
      "source": [
        "SVCclassifier = LinearSVC()\n",
        "SVCmodel = Pipeline([(\"cleaner\", predictors()),\n",
        "                 ('vectorizer', tfvectorizer),\n",
        "                 ('classifier', SVCclassifier)])\n",
        "\n",
        "# Train the Model\n",
        "SVCmodel.fit(X_train,y_train)   \n",
        "SVCpred = SVCmodel.predict(X_test)\n",
        "print(f'Confusion Matrix:\\n{confusion_matrix(y_test,SVCpred)}')\n",
        "print(f'\\nClassification Report:\\n{classification_report(y_test,SVCpred)}')\n",
        "print(f'Accuracy: {accuracy_score(y_test,SVCpred)*100}%')"
      ],
      "execution_count": null,
      "outputs": [
        {
          "output_type": "stream",
          "name": "stdout",
          "text": [
            "Confusion Matrix:\n",
            "[[4117  594]\n",
            " [ 564 4300]]\n",
            "\n",
            "Classification Report:\n",
            "              precision    recall  f1-score   support\n",
            "\n",
            "           0       0.88      0.87      0.88      4711\n",
            "           1       0.88      0.88      0.88      4864\n",
            "\n",
            "    accuracy                           0.88      9575\n",
            "   macro avg       0.88      0.88      0.88      9575\n",
            "weighted avg       0.88      0.88      0.88      9575\n",
            "\n",
            "Accuracy: 87.90600522193212%\n"
          ]
        }
      ]
    },
    {
      "cell_type": "markdown",
      "source": [
        "#**Random Forest Classifier model:**"
      ],
      "metadata": {
        "id": "nqAvdv2vVgBj"
      }
    },
    {
      "cell_type": "code",
      "source": [
        "random_classifier = RandomForestClassifier(n_estimators=100, max_depth=3,max_features='auto', min_samples_leaf=4,bootstrap=True, n_jobs=-1,random_state=0)\n",
        "RFModel = Pipeline([(\"cleaner\", predictors()),\n",
        "                 ('vectorizer', tfvectorizer),\n",
        "                 ('classifier', random_classifier)])\n",
        "RFModel.fit(X_train,y_train)   "
      ],
      "metadata": {
        "colab": {
          "base_uri": "https://localhost:8080/"
        },
        "id": "aqPcFoPZ8SRm",
        "outputId": "c7ddf7fe-b6d0-4faf-f809-4181fd5f838e"
      },
      "execution_count": null,
      "outputs": [
        {
          "output_type": "execute_result",
          "data": {
            "text/plain": [
              "Pipeline(steps=[('cleaner', <__main__.predictors object at 0x7fe6486f2d50>),\n",
              "                ('vectorizer',\n",
              "                 TfidfVectorizer(tokenizer=<function tokenizer at 0x7fe6ef1f8c20>)),\n",
              "                ('classifier',\n",
              "                 RandomForestClassifier(max_depth=3, min_samples_leaf=4,\n",
              "                                        n_jobs=-1, random_state=0))])"
            ]
          },
          "metadata": {},
          "execution_count": 34
        }
      ]
    },
    {
      "cell_type": "code",
      "source": [
        "RFpred = RFModel.predict(X_test)"
      ],
      "metadata": {
        "id": "A5b2BYBg-RsQ"
      },
      "execution_count": null,
      "outputs": []
    },
    {
      "cell_type": "code",
      "source": [
        "from sklearn.metrics import f1_score\n",
        "from sklearn import metrics\n",
        "print(f'Confusion Matrix:\\n{confusion_matrix(y_test,RFpred)}')\n",
        "print(f'\\nClassification Report:\\n{classification_report(y_test,RFpred)}')\n",
        "print(f'Accuracy: {accuracy_score(y_test,RFpred)*100}%')\n",
        "print(f'F1 score: {f1_score(y_test,RFpred,average=None)}')\n",
        "fpr, tpr, _ = metrics.roc_curve(y_test,RFpred)\n",
        "auc = metrics.roc_auc_score(y_test,RFpred)\n",
        "plt.plot(fpr,tpr,label=\"data 1, auc=\"+str(auc))\n",
        "plt.legend(loc=4)\n",
        "plt.show()\n"
      ],
      "metadata": {
        "id": "wrdbRm59XDB8",
        "colab": {
          "base_uri": "https://localhost:8080/",
          "height": 543
        },
        "outputId": "3aaf0a1d-a56f-4bf0-9357-69ba56484ee8"
      },
      "execution_count": null,
      "outputs": [
        {
          "output_type": "stream",
          "name": "stdout",
          "text": [
            "Confusion Matrix:\n",
            "[[3094 1617]\n",
            " [ 604 4260]]\n",
            "\n",
            "Classification Report:\n",
            "              precision    recall  f1-score   support\n",
            "\n",
            "           0       0.84      0.66      0.74      4711\n",
            "           1       0.72      0.88      0.79      4864\n",
            "\n",
            "    accuracy                           0.77      9575\n",
            "   macro avg       0.78      0.77      0.76      9575\n",
            "weighted avg       0.78      0.77      0.77      9575\n",
            "\n",
            "Accuracy: 76.80417754569191%\n",
            "F1 score: [0.73587823 0.79322223]\n"
          ]
        },
        {
          "output_type": "display_data",
          "data": {
            "image/png": "[encoded data removed]",
            "text/plain": [
              "<Figure size 432x288 with 1 Axes>"
            ]
          },
          "metadata": {
            "needs_background": "light"
          }
        }
      ]
    },
    {
      "cell_type": "markdown",
      "source": [
        "#**Gaussian NB model:**"
      ],
      "metadata": {
        "id": "731kalCiY0hI"
      }
    },
    {
      "cell_type": "code",
      "metadata": {
        "id": "oQqx3jPjRqvs"
      },
      "source": [
        "nb_classifier = GaussianNB()\n",
        "NBmodel = Pipeline([(\"cleaner\", predictors()),\n",
        "                 ('vectorizer', tfvectorizer),\n",
        "                 ('to_dense', DenseTransformer()),\n",
        "                 ('classifier', nb_classifier)])\n",
        "\n",
        "NBmodel.fit(X_train,y_train)   \n",
        "NBpred = NBmodel.predict(X_test)"
      ],
      "execution_count": null,
      "outputs": []
    },
    {
      "cell_type": "code",
      "source": [
        "print(f'Confusion Matrix:\\n{confusion_matrix(y_test,NBpred)}')\n",
        "print(f'\\nClassification Report:\\n{classification_report(y_test,NBpred)}')\n",
        "print(f'Accuracy: {accuracy_score(y_test,NBpred)*100}%')\n",
        "fpr, tpr, thresholds = roc_curve(y_test, NBpred)\n",
        "roc_auc = auc(fpr, tpr)\n",
        "print('AUC:', roc_auc)"
      ],
      "metadata": {
        "id": "jGJZ5q7XfiLU"
      },
      "execution_count": null,
      "outputs": []
    },
    {
      "cell_type": "markdown",
      "source": [
        "#**XGBoost model:**"
      ],
      "metadata": {
        "id": "cobbAPq1IdEQ"
      }
    },
    {
      "cell_type": "code",
      "source": [
        "from xgboost import XGBClassifier\n",
        "model_bow = XGBClassifier(random_state=22,learning_rate=0.9)\n",
        "XGmodel = Pipeline([(\"cleaner\", predictors()),\n",
        "                 ('vectorizer', tfvectorizer),\n",
        "                 ('to_dense', DenseTransformer()),\n",
        "                 ('classifier', nb_classifier)])\n",
        "XGModel.fit(X_train, y_train)\n",
        "xgb = model_bow.predict_proba(X_test)"
      ],
      "metadata": {
        "id": "K4-4KpmVJHgo"
      },
      "execution_count": null,
      "outputs": []
    },
    {
      "cell_type": "code",
      "source": [
        "print(f'Confusion Matrix:\\n{confusion_matrix(y_test,xgb)}')\n",
        "print(f'\\nClassification Report:\\n{classification_report(y_test,xgb)}')\n",
        "print(f'Accuracy: {accuracy_score(y_test,xgb)*100}%')\n",
        "print(f'F1 score: {f1_score(y_test,xgb,average=None)}')"
      ],
      "metadata": {
        "id": "I_SfseElfodm"
      },
      "execution_count": null,
      "outputs": []
    },
    {
      "cell_type": "markdown",
      "metadata": {
        "id": "xvsZL52eYziO"
      },
      "source": [
        "**Comparing all model outputs**"
      ]
    },
    {
      "cell_type": "code",
      "metadata": {
        "id": "dZqamJgoRPlX",
        "colab": {
          "base_uri": "https://localhost:8080/"
        },
        "outputId": "e4c0427d-b417-4594-890d-ffffcd1e7a5f"
      },
      "source": [
        "#testing a comment using logistic regression model\n",
        "pre = LRmodel.predict([\"The movie was very very bad I couldn't watch it at all\"])\n",
        "print(f'Prediction: {pre[0]}')\n",
        "pre = LRmodel.predict([\"The movie was amazing and I really loved it\"])\n",
        "print(f'Prediction: {pre[0]}')"
      ],
      "execution_count": null,
      "outputs": [
        {
          "output_type": "stream",
          "name": "stdout",
          "text": [
            "Prediction: 0\n",
            "Prediction: 1\n"
          ]
        }
      ]
    },
    {
      "cell_type": "code",
      "metadata": {
        "id": "lM-znoRhT1O4",
        "colab": {
          "base_uri": "https://localhost:8080/"
        },
        "outputId": "69ded9f7-5a85-4e04-92ba-74749b0878cc"
      },
      "source": [
        "#testing a comment using random forest regression model\n",
        "pre = RFModel.predict([\"The movie was very very bad I couldn't watch it at all\"])\n",
        "print(f'Prediction: {pre[0]}')\n",
        "pre = RFModel.predict([\"The movie was amazing and I really loved it\"])\n",
        "print(f'Prediction: {pre[0]}')"
      ],
      "execution_count": null,
      "outputs": [
        {
          "output_type": "stream",
          "name": "stdout",
          "text": [
            "Prediction: 0\n",
            "Prediction: 1\n"
          ]
        }
      ]
    },
    {
      "cell_type": "code",
      "metadata": {
        "id": "tg_4gR8hNPel",
        "colab": {
          "base_uri": "https://localhost:8080/"
        },
        "outputId": "dec7f2c9-da2a-4fcd-9950-c4505770e672"
      },
      "source": [
        "#testing a comment using SVM model\n",
        "pre = SVCmodel.predict([\"The movie was very very bad I couldn't watch it at all\"])\n",
        "print(f'Prediction: {pre[0]}')\n",
        "pre = SVCmodel.predict([\"The movie was amazing and I really loved it\"])\n",
        "print(f'Prediction: {pre[0]}')"
      ],
      "execution_count": null,
      "outputs": [
        {
          "output_type": "stream",
          "name": "stdout",
          "text": [
            "Prediction: 0\n",
            "Prediction: 1\n"
          ]
        }
      ]
    },
    {
      "cell_type": "code",
      "metadata": {
        "id": "0p23pYSxYrEr",
        "colab": {
          "base_uri": "https://localhost:8080/"
        },
        "outputId": "d7e17f50-5664-4b78-ad18-ca5a4c758127"
      },
      "source": [
        "#testing a comment using Decision Tree model\n",
        "pre = DTmodel.predict([\"The movie was very very bad I couldn't watch it at all\"])\n",
        "print(f'Prediction: {pre[0]}')\n",
        "pre = DTmodel.predict([\"The movie was amazing and I really loved it\"])\n",
        "print(f'Prediction: {pre[0]}')"
      ],
      "execution_count": null,
      "outputs": [
        {
          "output_type": "stream",
          "name": "stdout",
          "text": [
            "Prediction: 0\n",
            "Prediction: 1\n"
          ]
        }
      ]
    },
    {
      "cell_type": "markdown",
      "metadata": {
        "id": "1PEJIflmo6Cc"
      },
      "source": [
        "# Conclusions\n",
        "We consider **accuracy** as our evaluation metrics because we wish to see the general performance of the models. And we can confidently use accuracy score because we have dealt with the imbalance in the dataset.\n",
        "\n",
        "We can see that the accuracy of **Logistic Regression** is considerably higher than the other models. So we choose logistic regression as our final model to make predictions. \n",
        "\n",
        "\n"
      ]
    },
    {
      "cell_type": "markdown",
      "metadata": {
        "id": "Io6afT00yosi"
      },
      "source": [
        "## **Getting and Processing Comments with the best MODEL:**"
      ]
    },
    {
      "cell_type": "code",
      "metadata": {
        "id": "oU7cPOSbyoiO"
      },
      "source": [
        "def getIMDbComments(movie_name):\n",
        "    ia = IMDb()\n",
        "    comments = []\n",
        "\n",
        "    search = ia.search_movie(movie_name)\n",
        "\n",
        "    if not search:\n",
        "      print('\\nMovie not found!')\n",
        "      return None\n",
        "\n",
        "    count = 0\n",
        "    print('\\nSelect your choice of movie from the below options: ')\n",
        "    \n",
        "    for i in search: \n",
        "      print(str(count) + '. ', i['title'])\n",
        "      count = count + 1\n",
        "\n",
        "    choice_of_movie = abs(int(input('\\nEnter your coice: ')))\n",
        "\n",
        "    if(choice_of_movie > len(search)):\n",
        "      print('\\nInvalid choice!')\n",
        "      return None\n",
        "\n",
        "    print('\\nYou chose option', str(choice_of_movie) + ', ', 'Movie name:',search[choice_of_movie]['title'] )\n",
        "    id = search[choice_of_movie].movieID\n",
        "\n",
        "    try:\n",
        "      movie_info = ia.get_movie(id, ['reviews'])\n",
        "\n",
        "      for i in movie_info['reviews']:\n",
        "          comments.append(i['content'])\n",
        "\n",
        "      return comments\n",
        "\n",
        "    except:\n",
        "      print('Sorry, no reviews were found for the chosen movie')\n",
        "      return None\n"
      ],
      "execution_count": null,
      "outputs": []
    },
    {
      "cell_type": "code",
      "metadata": {
        "colab": {
          "base_uri": "https://localhost:8080/"
        },
        "id": "OIsVWWQezlTn",
        "outputId": "3f3a1e52-91dc-4b4d-9141-e827af918faf"
      },
      "source": [
        "#Get comments from IMDB and generate comment tone statistics\n",
        "\n",
        "movie_name = str(input(\"Enter movie name: \"))\n",
        "movie_name = movie_name.replace(\" \", \"_\")\n",
        "movie_name = movie_name.lower()\n",
        "comments = []\n",
        "\n",
        "print('Fetching movie information for', movie_name ,'...')\n",
        "commentList = getIMDbComments(movie_name)\n",
        "if(commentList):\n",
        "  comments += commentList\n",
        "  predictedComment = LRmodel.predict(comments)\n",
        "  \n",
        "  count_0 = 0\n",
        "  count_1 = 0\n",
        "\n",
        "  for i in predictedComment:\n",
        "    if(i == 0):\n",
        "      count_0 += 1\n",
        "\n",
        "    else:\n",
        "      count_1 += 1\n",
        "  \n",
        "  print('\\nComment statistics:')\n",
        "  print('Positive Comments: ', str(get_percentage(count_1, len(predictedComment))) + '%, ', 'Negative Comments: ', str(get_percentage(count_0, len(predictedComment))) + '%') \n",
        "  if(count_1 >= count_0):\n",
        "    print('Prediction says that this is a good film')\n",
        "\n",
        "  else:\n",
        "    print('Prediction says that this is a bad film')\n",
        "\n",
        "  print('Overall score: {}/10'.format(int(math.ceil(get_percentage(count_1, len(predictedComment))/10))))\n"
      ],
      "execution_count": null,
      "outputs": [
        {
          "output_type": "stream",
          "name": "stdout",
          "text": [
            "Enter movie name: titanic\n",
            "Fetching movie information for titanic ...\n",
            "\n",
            "Select your choice of movie from the below options: \n",
            "0.  Titanic\n",
            "1.  A Night to Remember\n",
            "2.  Titanic\n",
            "3.  Titanic II\n",
            "4.  Titanic\n",
            "5.  Titanic\n",
            "6.  Raise the Titanic\n",
            "7.  Titanic: Deleted Scenes\n",
            "8.  Titane\n",
            "9.  Titans\n",
            "10.  Attack on Titan\n",
            "11.  The Titan\n",
            "12.  Clash of the Titans\n",
            "13.  Remember the Titans\n",
            "14.  Titanic\n",
            "15.  Wrath of the Titans\n",
            "16.  Clash of the Titans\n",
            "17.  The Mauritanian\n",
            "18.  Titanic 2\n",
            "19.  Titans\n",
            "\n",
            "Enter your coice: 0\n",
            "\n",
            "You chose option 0,  Movie name: Titanic\n",
            "\n",
            "Comment statistics:\n",
            "Positive Comments:  92.0%,  Negative Comments:  8.0%\n",
            "Prediction says that this is a good film\n",
            "Overall score: 10/10\n"
          ]
        }
      ]
    },
    {
      "cell_type": "code",
      "metadata": {
        "id": "Hk4G51Ua7QJF"
      },
      "source": [
        "def get_percentage(val, total):\n",
        "  return (val * 100)/total"
      ],
      "execution_count": null,
      "outputs": []
    }
  ]
}